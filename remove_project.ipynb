{
 "cells": [
  {
   "cell_type": "markdown",
   "metadata": {},
   "source": [
    "# remove project\n",
    "\n",
    "_Move specified project folder to \".Trash\" or delete_"
   ]
  },
  {
   "cell_type": "code",
   "execution_count": null,
   "metadata": {
    "collapsed": true
   },
   "outputs": [],
   "source": [
    "## SETTINGS\n",
    "\n",
    "## import global project settings from settings.py\n",
    "from settings import *"
   ]
  },
  {
   "cell_type": "markdown",
   "metadata": {},
   "source": [
    "## configure"
   ]
  },
  {
   "cell_type": "code",
   "execution_count": null,
   "metadata": {
    "collapsed": true
   },
   "outputs": [],
   "source": [
    "## Specify project to remove\n",
    "to_remove = projects_dir + '/*default'\n",
    "\n",
    "## Trash settings\n",
    "use_trash = True"
   ]
  },
  {
   "cell_type": "markdown",
   "metadata": {},
   "source": [
    "## run"
   ]
  },
  {
   "cell_type": "code",
   "execution_count": null,
   "metadata": {
    "collapsed": false,
    "scrolled": true
   },
   "outputs": [],
   "source": [
    "\n",
    "if(use_trash):\n",
    "  ## trash project -- move to hidden Trash folder\n",
    "  !mv $to_remove $trash_dir\n",
    "  ## show current Trash contents, most recent first\n",
    "  !ls -lat $trash_dir | head -n 20\n",
    "else:\n",
    "  ## delete project -- recursive, permanent!\n",
    "  !rm -R $to_remove\n",
    "  ## confirm gone\n",
    "  !ls $to_remove"
   ]
  },
  {
   "cell_type": "markdown",
   "metadata": {},
   "source": [
    "## empty trash"
   ]
  },
  {
   "cell_type": "code",
   "execution_count": null,
   "metadata": {
    "collapsed": true
   },
   "outputs": [],
   "source": [
    "## delete all directories in Trash -- recursive, permanent!\n",
    "\n",
    "# !rm -R $trash\n",
    "# !mkdir $trash"
   ]
  },
  {
   "cell_type": "markdown",
   "metadata": {},
   "source": [
    "## restore"
   ]
  },
  {
   "cell_type": "code",
   "execution_count": null,
   "metadata": {
    "collapsed": false
   },
   "outputs": [],
   "source": [
    "to_restore = '' # e.g. '20171103*_default'\n",
    "\n",
    "if(to_restore != ''):\n",
    "    print('Restoring: ' + to_restore + ' ...to: ' + projects_dir)\n",
    "    !mv $trash_dir/$to_restore $projects_dir\n",
    "    # !ls -lat $projects_dir"
   ]
  },
  {
   "cell_type": "markdown",
   "metadata": {},
   "source": [
    "----------"
   ]
  }
 ],
 "metadata": {
  "kernelspec": {
   "display_name": "Python 2",
   "language": "python",
   "name": "python2"
  },
  "language_info": {
   "codemirror_mode": {
    "name": "ipython",
    "version": 2
   },
   "file_extension": ".py",
   "mimetype": "text/x-python",
   "name": "python",
   "nbconvert_exporter": "python",
   "pygments_lexer": "ipython2",
   "version": "2.7.11"
  }
 },
 "nbformat": 4,
 "nbformat_minor": 0
}

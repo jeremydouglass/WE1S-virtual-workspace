{
 "cells": [
  {
   "cell_type": "markdown",
   "metadata": {},
   "source": [
    "# remove project\n",
    "\n",
    "_Move specified project folder to \".Trash\" or delete_"
   ]
  },
  {
   "cell_type": "markdown",
   "metadata": {},
   "source": [
    "## configure"
   ]
  },
  {
   "cell_type": "code",
   "execution_count": null,
   "metadata": {
    "collapsed": true
   },
   "outputs": [],
   "source": [
    "## Specify project to remove\n",
    "to_remove = './projects/*default'\n",
    "\n",
    "## Trash settings\n",
    "use_trash = True\n",
    "trash_dir  = './projects/.Trash/'"
   ]
  },
  {
   "cell_type": "markdown",
   "metadata": {},
   "source": [
    "## run"
   ]
  },
  {
   "cell_type": "code",
   "execution_count": null,
   "metadata": {
    "collapsed": false,
    "scrolled": true
   },
   "outputs": [],
   "source": [
    "\n",
    "if(use_trash):\n",
    "  ## trash project -- move to hidden Trash folder\n",
    "  !mv $to_remove $trash\n",
    "  ## show current Trash contents, most recent first\n",
    "  !ls -lat $trash | head -n 20\n",
    "else:\n",
    "  ## delete project -- recursive, permanent!\n",
    "  !rm -R $to_remove\n",
    "  ## confirm gone\n",
    "  !ls $to_remove"
   ]
  },
  {
   "cell_type": "markdown",
   "metadata": {},
   "source": [
    "## empty trash"
   ]
  },
  {
   "cell_type": "code",
   "execution_count": null,
   "metadata": {
    "collapsed": true
   },
   "outputs": [],
   "source": [
    "## delete all directories in Trash -- recursive, permanent!\n",
    "\n",
    "# !rm -R $trash\n",
    "# !mkdir $trash"
   ]
  },
  {
   "cell_type": "markdown",
   "metadata": {},
   "source": [
    "## restore"
   ]
  },
  {
   "cell_type": "code",
   "execution_count": null,
   "metadata": {
    "collapsed": false
   },
   "outputs": [],
   "source": [
    "to_restore = '*default'\n",
    "\n",
    "restore = False\n",
    "\n",
    "if(restore):\n",
    "    !mv $trash$to_restore ./projects/\n",
    "    !ls -lat ./projects"
   ]
  },
  {
   "cell_type": "markdown",
   "metadata": {},
   "source": [
    "----------"
   ]
  }
 ],
 "metadata": {
  "kernelspec": {
   "display_name": "Python 2",
   "language": "python",
   "name": "python2"
  },
  "language_info": {
   "codemirror_mode": {
    "name": "ipython",
    "version": 2
   },
   "file_extension": ".py",
   "mimetype": "text/x-python",
   "name": "python",
   "nbconvert_exporter": "python",
   "pygments_lexer": "ipython2",
   "version": "2.7.11"
  }
 },
 "nbformat": 4,
 "nbformat_minor": 0
}

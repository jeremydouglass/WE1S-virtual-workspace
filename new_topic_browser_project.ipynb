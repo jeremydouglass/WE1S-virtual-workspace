{
 "cells": [
  {
   "cell_type": "markdown",
   "metadata": {},
   "source": [
    "# New Topic Browser Project\n",
    "\n",
    "Create a new Jupyter project for dfr browser generation.\n",
    "\n",
    "_This notebook is read-only. It may be customized and run, but settings will only be saved in the newly generated projects._"
   ]
  },
  {
   "cell_type": "code",
   "execution_count": null,
   "metadata": {
    "collapsed": true
   },
   "outputs": [],
   "source": [
    "## IMPORT\n",
    "\n",
    "# from distutils.dir_util import copy_tree\n",
    "from shutil import copytree, ignore_patterns\n",
    "import os\n",
    "import datetime"
   ]
  },
  {
   "cell_type": "markdown",
   "metadata": {},
   "source": [
    "## VARIABLES -- FILL OUT"
   ]
  },
  {
   "cell_type": "code",
   "execution_count": null,
   "metadata": {
    "collapsed": false
   },
   "outputs": [],
   "source": [
    "## VARIABLES\n",
    "\n",
    "## Customize these to specific project name and data\n",
    "\n",
    "project_name        = 'default'\n",
    "\n",
    "template_directory  = 'templates/topic_browser_template'\n",
    "dt = datetime.datetime.today().strftime('%Y%m%d_%H%M_')\n",
    "project_directory   = 'projects/' + dt + project_name\n",
    "print(project_directory)\n",
    "\n",
    "## DOCKER UPDATE NOTES\n",
    "## updated server from UTC to PST at command line with: (chose America / Los Angeles):\n",
    "#  dpkg-reconfigure tzdata"
   ]
  },
  {
   "cell_type": "code",
   "execution_count": null,
   "metadata": {
    "collapsed": false
   },
   "outputs": [],
   "source": [
    "## COPY TEMPLATE TO NEW PROJECT\n",
    "\n",
    "## Initialize new project folder with default template contents\n",
    "## -- this includes empty folders, stopwords, scripts\n",
    "## Clean copy -- ignore any checkpoints or pycache in the template folder\n",
    "\n",
    "copytree(template_directory, project_directory, ignore=ignore_patterns('.ipynb_checkpoints', '__pycache__'))\n"
   ]
  },
  {
   "cell_type": "code",
   "execution_count": null,
   "metadata": {
    "collapsed": false
   },
   "outputs": [],
   "source": [
    "!ls -la {project_directory}"
   ]
  },
  {
   "cell_type": "markdown",
   "metadata": {},
   "source": [
    "## NEXT"
   ]
  },
  {
   "cell_type": "code",
   "execution_count": null,
   "metadata": {
    "collapsed": false
   },
   "outputs": [],
   "source": [
    "## NEXT\n",
    "## Generate a link to the next notebook\n",
    "\n",
    "from IPython.display import display, HTML\n",
    "browser_link_html = HTML('<p>A new copy of:<br><strong>'+ template_directory +'</strong><br>has been created in:<br><strong>'+ project_directory + '</strong></p><h2><a href=\"' + project_directory + '/\" target=\"top\">Open new project</h2>')\n",
    "display(browser_link_html)\n"
   ]
  },
  {
   "cell_type": "markdown",
   "metadata": {},
   "source": [
    "----------"
   ]
  }
 ],
 "metadata": {
  "kernelspec": {
   "display_name": "Python 3",
   "language": "python",
   "name": "python3"
  },
  "language_info": {
   "codemirror_mode": {
    "name": "ipython",
    "version": 3
   },
   "file_extension": ".py",
   "mimetype": "text/x-python",
   "name": "python",
   "nbconvert_exporter": "python",
   "pygments_lexer": "ipython3",
   "version": "3.5.1"
  }
 },
 "nbformat": 4,
 "nbformat_minor": 0
}

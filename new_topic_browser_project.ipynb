{
 "cells": [
  {
   "cell_type": "markdown",
   "metadata": {},
   "source": [
    "# New Topic Browser Project\n",
    "\n",
    "Create a new Jupyter project for dfr browser generation.\n",
    "\n",
    "_This notebook is read-only. It may be customized and run, but settings will only be saved in the newly generated projects._"
   ]
  },
  {
   "cell_type": "code",
   "execution_count": null,
   "metadata": {
    "collapsed": true
   },
   "outputs": [],
   "source": [
    "## IMPORT\n",
    "\n",
    "# from distutils.dir_util import copy_tree\n",
    "from shutil import copytree, ignore_patterns\n",
    "import json, os\n",
    "import datetime"
   ]
  },
  {
   "cell_type": "code",
   "execution_count": null,
   "metadata": {
    "collapsed": true
   },
   "outputs": [],
   "source": [
    "## SETTINGS\n",
    "\n",
    "## import global project settings from settings.py\n",
    "from settings import *"
   ]
  },
  {
   "cell_type": "markdown",
   "metadata": {},
   "source": [
    "## Configure"
   ]
  },
  {
   "cell_type": "code",
   "execution_count": null,
   "metadata": {
    "collapsed": true
   },
   "outputs": [],
   "source": [
    "## For development (overrides `settings.py`)\n",
    "\n",
    "# template_dir  = ''\n",
    "# projects_dir  = ''\n",
    "# trash_dir     = ''"
   ]
  },
  {
   "cell_type": "code",
   "execution_count": null,
   "metadata": {
    "collapsed": true
   },
   "outputs": [],
   "source": [
    "## Customize this to specific project name and data\n",
    "\n",
    "## Required Properties\n",
    "\n",
    "project_name  = 'default'         # The project ID\n",
    "name          = 'Default Project' # A \"nice\" title\n",
    "description   = ''                # A prose description of the project\n",
    "# See http://frictionlessdata.io/specs/data-package/#descriptor for contributor properties.\n",
    "contributors = {\n",
    "    'title': '',   # The name of the contributor (required)\n",
    "    # 'email': '', # The contributor's email (optional)\n",
    "    # 'path': '',  # The contributor's website (optional)\n",
    "    # 'role': ''   # The contributor's role (optional)\n",
    "}\n",
    "resources             = [] # List paths or urls to your data files here.\n",
    "\n",
    "## Optional Properties\n",
    "\n",
    "# version  = '' # The project version\n",
    "# keywords = [] # Enter a list of strings\n",
    "# The license `name` MUST be an [Open Definition license ID](http://licenses.opendefinition.org/).\n",
    "# licenses = {\n",
    "    # 'name': 'CC-BY-SA-4.0', # License name (required if there is no path)\n",
    "    # 'path': '',         # License url (required if there is no name)\n",
    "    # title': 'Creative Commons Attribution Share Alike 4.0' # A nice title (optional)\n",
    "# }"
   ]
  },
  {
   "cell_type": "markdown",
   "metadata": {},
   "source": [
    "## Run"
   ]
  },
  {
   "cell_type": "markdown",
   "metadata": {},
   "source": [
    "### Create Project Manifest "
   ]
  },
  {
   "cell_type": "code",
   "execution_count": null,
   "metadata": {
    "collapsed": true
   },
   "outputs": [],
   "source": [
    "id                    = project_name\n",
    "created               = datetime.datetime.today().strftime('%Y%m%d_%H%M_')\n",
    "path                  = 'projects/' + created + id\n",
    "dt                    = created # For backwards compatibility with existing code\n",
    "project_directory     = path # For backwards compatibility with existing code\n",
    "valid = True\n",
    "\n",
    "manifest = {\n",
    "    'id' : id,\n",
    "    'path': path,\n",
    "    'name': name,\n",
    "    'description': description,\n",
    "    'created': created,\n",
    "    'contributors': contributors,\n",
    "    'resources': resources\n",
    "}\n",
    "if licenses:\n",
    "    manifest['licenses'] = licenses\n",
    "if version:\n",
    "    manifest['version'] = version\n",
    "if keywords:\n",
    "    manifest['keywords'] = keywords\n",
    "manifest = json.dumps(manifest)\n",
    "\n",
    "## Validate the manifest -- skip this until we formalise the schema\n",
    "\n",
    "# from jsonschema import validate\n",
    "# schema = {} # The full manifest schema goes here\n",
    "# validator = Draft4Validator(schema)\n",
    "\n",
    "## If the manifest does not validate, print errors\n",
    "\n",
    "# if validator.iter_errors(manifest):\n",
    "#     valid = False\n",
    "#     print('Error: The Virtual Workspace could not create a valid Project manifest from the information you supplied. Please double-check your configuration.')\n",
    "#     for error in sorted(validator.iter_errors(manifest), key=str):\n",
    "#         print(error.message)"
   ]
  },
  {
   "cell_type": "markdown",
   "metadata": {},
   "source": [
    "### Create Project Directory"
   ]
  },
  {
   "cell_type": "code",
   "execution_count": null,
   "metadata": {},
   "outputs": [],
   "source": [
    "## Proceed if the manifest is valid.\n",
    "\n",
    "if valid == True:\n",
    "\n",
    "    # Try to create the project directory with timedate stamp\n",
    "    try:\n",
    "        dt = datetime.datetime.today().strftime('%Y%m%d_%H%M_')\n",
    "        new_project_dir   = projects_dir + '/' + dt + project_name\n",
    "        print('Created new Project directory: ' + new_project_dir + '.')\n",
    "    except:\n",
    "        print('Error: The Virtual Workspace could not create a project directory at the specified location. Please double-check your configuration.')\n",
    "\n",
    "    # Try to write the manifest to the project directory\n",
    "    try:\n",
    "        manifest_file = os.path.join(new_project_dir, 'datapackage.json')\n",
    "        with open(manifest_file, 'w') as f:\n",
    "             json.dump(manifest, f)\n",
    "    except:\n",
    "        print('Error: The Virtual Workspace could not write the Project manifest to the specified project directory. Please double-check your configuration.')\n",
    "\n",
    "\n",
    "## Print the manifest from the file\n",
    "# with open(manifest_file, 'r') as f:\n",
    "#      data = json.load(f)\n",
    "# print(data)\n",
    "\n",
    "## DOCKER UPDATE NOTES\n",
    "## updated server from UTC to PST at command line with: (chose America / Los Angeles):\n",
    "#  dpkg-reconfigure tzdata"
   ]
  },
  {
   "cell_type": "markdown",
   "metadata": {},
   "source": [
    "### Copy Templates to Project"
   ]
  },
  {
   "cell_type": "code",
   "execution_count": null,
   "metadata": {},
   "outputs": [],
   "source": [
    "## Initialize new project folder with default template contents\n",
    "## -- this includes empty folders, stopwords, scripts\n",
    "## Clean copy -- ignore any checkpoints or pycache in the template folder\n",
    "\n",
    "try:\n",
    "    copytree(template_dir, new_project_dir, ignore=ignore_patterns('.ipynb_checkpoints', '__pycache__'))\n",
    "except:\n",
    "    print('Error: The Virtual Workspace could not copy its templates to the project directory. Please double-check your configuration.')\n"
   ]
  },
  {
   "cell_type": "code",
   "execution_count": null,
   "metadata": {},
   "outputs": [],
   "source": [
    "!ls -la {new_project_dir}"
   ]
  },
  {
   "cell_type": "markdown",
   "metadata": {},
   "source": [
    "## NEXT"
   ]
  },
  {
   "cell_type": "code",
   "execution_count": null,
   "metadata": {},
   "outputs": [],
   "source": [
    "## NEXT\n",
    "## Generate a link to the next notebook\n",
    "\n",
    "from IPython.display import display, HTML\n",
    "browser_link_html = HTML('<p>A new copy of:<br><strong>'+ template_dir +'</strong><br>has been created in:<br><strong>'+ new_project_dir + '</strong></p><h2><a href=\"' + new_project_dir + '/\" target=\"top\">Open new project</h2>')\n",
    "display(browser_link_html)\n"
   ]
  },
  {
   "cell_type": "markdown",
   "metadata": {},
   "source": [
    "----------"
   ]
  }
 ],
 "metadata": {
  "kernelspec": {
   "display_name": "Python 3",
   "language": "python",
   "name": "python3"
  },
  "language_info": {
   "codemirror_mode": {
    "name": "ipython",
    "version": 3
   },
   "file_extension": ".py",
   "mimetype": "text/x-python",
   "name": "python",
   "nbconvert_exporter": "python",
   "pygments_lexer": "ipython3",
   "version": "3.6.1"
  }
 },
 "nbformat": 4,
 "nbformat_minor": 1
}

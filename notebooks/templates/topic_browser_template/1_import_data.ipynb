{
 "cells": [
  {
   "cell_type": "markdown",
   "metadata": {},
   "source": [
    "# Import Data\n",
    "\n",
    "Import metadata and generate data files.\n",
    "\n",
    "-  v0.1 2016-10-19 split from new_dfr_project v.05 2016-10-19\n",
    "-  v0.2 2016-10-26 switch to multiple metadata csvs, merging, article body export"
   ]
  },
  {
   "cell_type": "code",
   "execution_count": null,
   "metadata": {
    "collapsed": true
   },
   "outputs": [],
   "source": [
    "## INFO\n",
    "\n",
    "__author__    = 'Jeremy Douglass'\n",
    "__copyright__ = 'copyright 2016, The WE1S Project'\n",
    "__license__   = 'GPL'\n",
    "__version__   = '0.1'\n",
    "__email__     = 'jeremydouglass@gmail.com'\n"
   ]
  },
  {
   "cell_type": "code",
   "execution_count": null,
   "metadata": {
    "collapsed": true
   },
   "outputs": [],
   "source": [
    "## IMPORT\n",
    "\n",
    "import csv\n",
    "import glob\n",
    "import os\n",
    "import shutil\n",
    "\n",
    "project_directory   = %pwd"
   ]
  },
  {
   "cell_type": "markdown",
   "metadata": {},
   "source": [
    "## CUSTOM VARIABLES"
   ]
  },
  {
   "cell_type": "code",
   "execution_count": null,
   "metadata": {
    "collapsed": true
   },
   "outputs": [],
   "source": [
    "## Metadata file list\n",
    "metadata_csv_files = ['../../../read/metadata/washington_post-1987-h-master-clean.csv', \\\n",
    "                      '../../../read/metadata/washington_post-1987-la-master-clean.csv', \\\n",
    "                      '../../../read/metadata/washington_post-1989-h-master-clean.csv', \\\n",
    "                      '../../../read/metadata/washington_post-1989-la-master-clean.csv']"
   ]
  },
  {
   "cell_type": "code",
   "execution_count": null,
   "metadata": {
    "collapsed": true
   },
   "outputs": [],
   "source": [
    "## Metadata single file\n",
    "# metadata_csv_file   = '../../../read/washington_post/working_data/2000/humanities/aggregate_working_data/clean/washington_post-2000-h-master-clean.csv'\n",
    "# text_file_directory = '../../../read/washington_post/working_data/2000/humanities/individual_plain_text'\n",
    "\n"
   ]
  },
  {
   "cell_type": "markdown",
   "metadata": {},
   "source": [
    "## RUN"
   ]
  },
  {
   "cell_type": "code",
   "execution_count": null,
   "metadata": {
    "collapsed": false
   },
   "outputs": [],
   "source": [
    "## IMPORT METADATA\n",
    "\n",
    "## Copy metadata single file\n",
    "# shutil.copy(metadata_csv_file,project_directory+'/metadata/metadata.csv')\n",
    "\n",
    "## Delete old metadata files\n",
    "!rm -f metadata/*\n",
    "\n",
    "## Copy metadata file list\n",
    "!mkdir -p metadata/\n",
    "for f in metadata_csv_files:\n",
    "    shutil.copy(f,project_directory+'/metadata/')"
   ]
  },
  {
   "cell_type": "code",
   "execution_count": null,
   "metadata": {
    "collapsed": false
   },
   "outputs": [],
   "source": [
    "## MERGE METADATA\n",
    "\n",
    "## Delete old merged metadata\n",
    "!rm -f metadata/metadata.csv\n",
    "\n",
    "!mkdir -p metadata/\n",
    "with open('metadata/metadata.csv','wb') as fout:\n",
    "    # copy header from first file\n",
    "    headerfile = open(metadata_csv_files[0])\n",
    "    fout.write(headerfile.readline())\n",
    "    ## copy bodies\n",
    "    wout = csv.writer(fout)\n",
    "    for filename in metadata_csv_files:\n",
    "        print 'Processing',filename\n",
    "        with open(filename,'rb') as fin:\n",
    "            win = csv.reader(fin)\n",
    "            next(win) # skip header\n",
    "            wout.writerows(win)\n"
   ]
  },
  {
   "cell_type": "code",
   "execution_count": null,
   "metadata": {
    "collapsed": false
   },
   "outputs": [],
   "source": [
    "## CHECK METADATA STATUS\n",
    "\n",
    "!ls metadata/\n",
    "!echo\n",
    "!head -n 5 metadata/metadata.csv"
   ]
  },
  {
   "cell_type": "code",
   "execution_count": null,
   "metadata": {
    "collapsed": true
   },
   "outputs": [],
   "source": [
    "## COPY TEXT\n",
    "## Replaced by the metadata csv export\n",
    "# for file in glob.glob(text_file_directory+r'/*.txt'):\n",
    "#    shutil.copy(file, project_directory+'/text_files/')"
   ]
  },
  {
   "cell_type": "code",
   "execution_count": null,
   "metadata": {
    "collapsed": false
   },
   "outputs": [],
   "source": [
    "## EXPORT ARTICLE BODIES TO TEXT FILES\n",
    "\n",
    "## Source CSV fields:\n",
    "## id, publication, pubdate, title, articlebody, author, docUrl, wordcount\n",
    "\n",
    "## Delete old text files\n",
    "!rm -f text_files/*\n",
    "\n",
    "## Export\n",
    "!mkdir -p text_files/\n";
    "with open('metadata/metadata.csv', 'r') as infile:\n",
    "    reader = csv.DictReader(infile)\n",
    "    ## skip header row\n",
    "    next(reader, None)\n",
    "    for row in reader:\n",
    "        with open(project_directory+'/text_files/'+row['id']+'_.txt', 'w') as outfile:\n",
    "            # writer = csv.DictWriter(outfile, fieldnames=outfieldnames)\n",
    "            outfile.write(row['articlebody'])"
   ]
  },
  {
   "cell_type": "code",
   "execution_count": null,
   "metadata": {
    "collapsed": false
   },
   "outputs": [],
   "source": [
    "## CHECK TEXT FILE STATUS\n",
    "\n",
    "!ls -la text_files/"
   ]
  },
  {
   "cell_type": "markdown",
   "metadata": {},
   "source": [
    "## NEXT"
   ]
  },
  {
   "cell_type": "code",
   "execution_count": null,
   "metadata": {
    "collapsed": false
   },
   "outputs": [],
   "source": [
    "## NEXT\n",
    "## Generate a link to the next notebook in the workflow\n",
    "\n",
    "from IPython.display import display, HTML\n",
    "browser_link_html = HTML('<p>The data is imported into ~/metadata/ and ~/text_files/.</p><h2><a href=\"2_clean_data.ipynb\" target=\"_blank\">Next: Clean Data.</h2>')\n",
    "display(browser_link_html)\n"
   ]
  },
  {
   "cell_type": "markdown",
   "metadata": {
    "collapsed": true
   },
   "source": [
    "----------"
   ]
  }
 ],
 "metadata": {
  "kernelspec": {
   "display_name": "Python 2",
   "language": "python",
   "name": "python2"
  },
  "language_info": {
   "codemirror_mode": {
    "name": "ipython",
    "version": 2
   },
   "file_extension": ".py",
   "mimetype": "text/x-python",
   "name": "python",
   "nbconvert_exporter": "python",
   "pygments_lexer": "ipython2",
   "version": "2.7.11"
  },
  "widgets": {
   "state": {},
   "version": "1.1.2"
  }
 },
 "nbformat": 4,
 "nbformat_minor": 0
}

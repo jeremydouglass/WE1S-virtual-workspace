{
 "cells": [
  {
   "cell_type": "markdown",
   "metadata": {},
   "source": [
    "# Make Topic Model\n",
    "\n",
    "Use mallet to create topic model files.\n",
    "\n",
    "-  v0.1 2016-10-19 split from new_dfr_project v.05 2016-10-19 -- abstracted variables for config\n",
    "-  v0.2 2016-11-07 better abstract model directory for multiple models"
   ]
  },
  {
   "cell_type": "code",
   "execution_count": null,
   "metadata": {
    "collapsed": true
   },
   "outputs": [],
   "source": [
    "## INFO\n",
    "\n",
    "__author__    = 'Jeremy Douglass'\n",
    "__copyright__ = 'copyright 2016, The WE1S Project'\n",
    "__license__   = 'GPL'\n",
    "__version__   = '0.2'\n",
    "__email__     = 'jeremydouglass@gmail.com'\n"
   ]
  },
  {
   "cell_type": "code",
   "execution_count": null,
   "metadata": {
    "collapsed": true
   },
   "outputs": [],
   "source": [
    "## IMPORT\n",
    "\n",
    "import os\n"
   ]
  },
  {
   "cell_type": "markdown",
   "metadata": {},
   "source": [
    "## VARIABLES -- FILL OUT"
   ]
  },
  {
   "cell_type": "code",
   "execution_count": 1,
   "metadata": {
    "collapsed": true
   },
   "outputs": [],
   "source": [
    "## VARIABLES\n",
    "\n",
    "project_directory   = %pwd\n",
    "\n",
    "## Customize these\n",
    "\n",
    "model_directory      = 'model'\n",
    "num_topics           = '50'\n",
    "\n",
    "text_files_directory = 'text_files_clean'\n",
    "metadata_file        = 'metadata/metadata.csv'\n",
    "model_file           = 'topics.mallet'\n",
    "stopwords_directory  = 'scripts/scrub'\n",
    "stopwords_file       = 'stopwords.txt'\n",
    "\n",
    "%mkdir -p $model_directory"
   ]
  },
  {
   "cell_type": "code",
   "execution_count": null,
   "metadata": {
    "collapsed": false
   },
   "outputs": [],
   "source": [
    "## run mallet -- import\n",
    "\n",
    "mallet_import_args = '--input ' + project_directory + '/' + text_files_directory + '/ ' \\\n",
    "  + '--output ' + project_directory + '/' + model_directory + '/' + model_file + ' ' \\\n",
    "  + '--keep-sequence ' \\\n",
    "  + '--remove-stopwords ' \\\n",
    "  + '--extra-stopwords ' + project_directory + '/' + stopwords_directory + '/' + stopwords_file + ' '\n",
    "mallet_import_command = 'mallet import-dir ' + mallet_import_args\n",
    "print(mallet_import_command+'\\n')\n",
    "mout = !mallet import-dir {mallet_import_args}\n",
    "print('\\n'.join(mout)+'\\n')\n",
    "print(os.listdir(project_directory + '/' + model_directory))\n"
   ]
  },
  {
   "cell_type": "code",
   "execution_count": null,
   "metadata": {
    "collapsed": false
   },
   "outputs": [],
   "source": [
    "## run mallet -- train\n",
    "\n",
    "mallet_train_args = '--input ' + project_directory + '/' + model_directory + '/' + model_file + ' ' \\\n",
    "  + '--num-topics ' + num_topics + ' ' \\\n",
    "  + '--optimize-interval 10 ' \\\n",
    "  + '--output-state ' + project_directory + '/' + model_directory + '/' + 'topic-state.gz ' \\\n",
    "  + '--output-topic-keys ' + project_directory + '/' + model_directory + '/' + 'keys.txt ' \\\n",
    "  + '--output-doc-topics ' + project_directory + '/' + model_directory + '/' + 'composition.txt ' \\\n",
    "  + '--word-topic-counts-file ' + project_directory + '/' + model_directory + '/' + 'topic_counts.txt'\n",
    "mallet_train_command = 'mallet train-topics ' + mallet_train_args\n",
    "print(mallet_train_command+'\\n')\n",
    "!mallet train-topics {mallet_train_args}\n",
    "print(os.listdir(project_directory + '/' + model_directory))\n",
    "\n",
    "## run mallet -- train\n",
    "\n",
    "# mallet_train_args = '--input ' + project_directory + '/' + model_directory + '/' + model_file + ' ' \\\n",
    "#   + '--num-topics 50 ' \\\n",
    "#   + '--optimize-interval 10 ' \\\n",
    "#   + '--output-state ' + project_directory + '/model/topic-state.gz ' \\\n",
    "#   + '--output-topic-keys ' + project_directory + '/model/keys.txt ' \\\n",
    "#   + '--output-doc-topics ' + project_directory + '/model/composition.txt ' \\\n",
    "#   + '--word-topic-counts-file ' + project_directory + '/model/topic_counts.txt'\n",
    "# mallet_train_command = 'mallet train-topics ' + mallet_train_args\n",
    "# print(mallet_train_command+'\\n')\n",
    "# !mallet train-topics {mallet_train_args}\n",
    "# print(os.listdir(project_directory + '/model/'))\n"
   ]
  },
  {
   "cell_type": "markdown",
   "metadata": {},
   "source": [
    "## NEXT"
   ]
  },
  {
   "cell_type": "code",
   "execution_count": null,
   "metadata": {
    "collapsed": false
   },
   "outputs": [],
   "source": [
    "## NEXT\n",
    "## Generate a link to the next notebook in the workflow\n",
    "\n",
    "from IPython.display import display, HTML\n",
    "browser_link_html = HTML('<p>The topic model is built.</p><h2><a href=\"4_make_topic_browser.ipynb\" target=\"_blank\">Next: Make the topic browser.</h2>')\n",
    "display(browser_link_html)\n"
   ]
  },
  {
   "cell_type": "markdown",
   "metadata": {},
   "source": [
    "----------"
   ]
  }
 ],
 "metadata": {
  "kernelspec": {
   "display_name": "Python 2",
   "language": "python",
   "name": "python2"
  },
  "language_info": {
   "codemirror_mode": {
    "name": "ipython",
    "version": 2
   },
   "file_extension": ".py",
   "mimetype": "text/x-python",
   "name": "python",
   "nbconvert_exporter": "python",
   "pygments_lexer": "ipython2",
   "version": "2.7.11"
  },
  "widgets": {
   "state": {},
   "version": "1.1.2"
  }
 },
 "nbformat": 4,
 "nbformat_minor": 0
}

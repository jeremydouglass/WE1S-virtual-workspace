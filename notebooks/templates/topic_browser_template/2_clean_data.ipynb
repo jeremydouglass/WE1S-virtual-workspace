{
 "cells": [
  {
   "cell_type": "markdown",
   "metadata": {},
   "source": [
    "# Clean Data\n",
    "\n",
    "Scrub text and remove stopwords.  \n",
    "Generates a new text_files_clean.\n",
    "\n",
    "-  v0.1 2016-10-19 split from new_dfr_project v.05 2016-10-19\n",
    "-  v0.2 2016-10-24 added metadata_dfrb.ipynb\n",
    "-  v0.3 2016-10-26 revised corpus_compare.py and added duplicate deleter step"
   ]
  },
  {
   "cell_type": "code",
   "execution_count": null,
   "metadata": {
    "collapsed": true
   },
   "outputs": [],
   "source": [
    "## INFO\n",
    "\n",
    "__author__    = 'Jeremy Douglass'\n",
    "__copyright__ = 'copyright 2016, The WE1S Project'\n",
    "__license__   = 'GPL'\n",
    "__version__   = '0.1'\n",
    "__email__     = 'jeremydouglass@gmail.com'\n"
   ]
  },
  {
   "cell_type": "markdown",
   "metadata": {},
   "source": [
    "## VARIABLES -- FILL OUT"
   ]
  },
  {
   "cell_type": "code",
   "execution_count": null,
   "metadata": {
    "collapsed": false
   },
   "outputs": [],
   "source": [
    "## VARIABLES\n",
    "\n",
    "## Customize these to specific project name and data\n",
    "\n",
    "project_directory   = %pwd\n",
    "print(project_directory)"
   ]
  },
  {
   "cell_type": "markdown",
   "metadata": {},
   "source": [
    "## SCRUB TEXT"
   ]
  },
  {
   "cell_type": "code",
   "execution_count": null,
   "metadata": {
    "collapsed": false
   },
   "outputs": [],
   "source": [
    "## SCRUB TEXT\n",
    "\n",
    "scriptdir = project_directory+'/scripts/scrub/'\n",
    "%cd $scriptdir\n",
    "scriptname = 'scrub.py'\n",
    "%run $scriptname\n",
    "%cd $project_directory\n",
    "\n",
    "## --------------\n",
    "## DOCKERFILE ADD\n",
    "## --------------\n",
    "# ImportError: No module named ftfy\n",
    "# Fix: add to Dockerfile:\n",
    "#   pip install ftfy\n",
    "#   pip2 install ftfy\n",
    "#   pip3 install ftfy"
   ]
  },
  {
   "cell_type": "markdown",
   "metadata": {},
   "source": [
    "## DE-DUPLICATE"
   ]
  },
  {
   "cell_type": "code",
   "execution_count": null,
   "metadata": {
    "collapsed": false
   },
   "outputs": [],
   "source": [
    "## DE-DUPLICATE\n",
    "\n",
    "## For help on script options:\n",
    "## %run scripts/deduplicate/corpus_compare.py -h \n",
    "\n",
    "## delete previous results\n",
    "!rm -f scripts/deduplicate/corpuse_compare.csv\n",
    "!rm -f scripts/deduplicate/corpuse_compare.log\n",
    "\n",
    "%run scripts/deduplicate/corpus_compare.py -i text_files_clean/ -o scripts/deduplicate/corpus_compare.csv -l scripts/deduplicate/corpus_compare.log\n",
    "\n",
    "## --------------\n",
    "## FOR DockerFile\n",
    "## --------------\n",
    "## relies on sklearn\n",
    "## need to pip install or pip2 install or conda install scikit-learn?\n"
   ]
  },
  {
   "cell_type": "code",
   "execution_count": null,
   "metadata": {
    "collapsed": true
   },
   "outputs": [],
   "source": [
    "## MINOR BUG\n",
    "## ---\n",
    "## corpus_compare.py is printing output multiple times if it is re-run in the notebook.\n",
    "## This has to do with setting the parser root handler -- do it, and warnings replicate, don't and no notebook output.\n",
    "## Output appears as an error message in a notebook and interrupts batch flow.\n",
    "## This also interrupts %run in a group notebook.\n",
    "##\n",
    "## ...fixed the double-notebook output by setting root logger to info and `logger.propagate = 0`\n",
    "## Tried removing all logger handlers at end of script to no effect.\n",
    "## However, .log text file is still written to twice, and notebook output is still pink/warning.\n",
    "## Tried moving all logger console calls from .debug to .info -- notebook output still pink.\n",
    "\n",
    "## in the future, could also try:\n",
    "## %capture [--no-stderr] [--no-stdout] [--no-display] [output]"
   ]
  },
  {
   "cell_type": "markdown",
   "metadata": {},
   "source": [
    "## DELETE DUPLICATES"
   ]
  },
  {
   "cell_type": "code",
   "execution_count": null,
   "metadata": {
    "collapsed": false
   },
   "outputs": [],
   "source": [
    "## MERGE METADATA\n",
    "import os\n",
    "import csv\n",
    "with open(project_directory+'/scripts/deduplicate/corpus_compare.csv','rb') as fin:\n",
    "    cfin = csv.reader(fin)\n",
    "    print(cfin, None)\n",
    "    next(cfin) # skip header\n",
    "    for row in cfin:\n",
    "        if os.path.isfile(row[5]):\n",
    "            print 'Deleting: ' + row[5]\n",
    "            os.remove(row[5])\n",
    "        else:\n",
    "            print 'Missing:  '+ row[5]"
   ]
  },
  {
   "cell_type": "markdown",
   "metadata": {},
   "source": [
    "## RE-ORGANIZE METADATA"
   ]
  },
  {
   "cell_type": "code",
   "execution_count": null,
   "metadata": {
    "collapsed": true
   },
   "outputs": [],
   "source": [
    "%run 'metadata_dfrb.ipynb'"
   ]
  },
  {
   "cell_type": "markdown",
   "metadata": {},
   "source": [
    "## NEXT"
   ]
  },
  {
   "cell_type": "code",
   "execution_count": null,
   "metadata": {
    "collapsed": false
   },
   "outputs": [],
   "source": [
    "## NEXT\n",
    "## Generate a link to the next notebook in the workflow\n",
    "\n",
    "from IPython.display import display, HTML\n",
    "browser_link_html = HTML('<p>The data in ~/text_files_clean/ is clean.</p><h2><a href=\"3_make_topic_model.ipynb\" target=\"_blank\">Next: Make the topic model.</h2>')\n",
    "display(browser_link_html)\n"
   ]
  },
  {
   "cell_type": "markdown",
   "metadata": {},
   "source": [
    "----------"
   ]
  }
 ],
 "metadata": {
  "kernelspec": {
   "display_name": "Python 2",
   "language": "python",
   "name": "python2"
  },
  "language_info": {
   "codemirror_mode": {
    "name": "ipython",
    "version": 2
   },
   "file_extension": ".py",
   "mimetype": "text/x-python",
   "name": "python",
   "nbconvert_exporter": "python",
   "pygments_lexer": "ipython2",
   "version": "2.7.11"
  },
  "widgets": {
   "state": {},
   "version": "1.1.2"
  }
 },
 "nbformat": 4,
 "nbformat_minor": 0
}

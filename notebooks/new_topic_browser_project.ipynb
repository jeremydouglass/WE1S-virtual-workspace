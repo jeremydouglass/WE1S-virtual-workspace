{
 "cells": [
  {
   "cell_type": "markdown",
   "metadata": {},
   "source": [
    "# New Topic Browser Project\n",
    "\n",
    "Create a new Jupyter project for dfr browser generation.\n",
    "\n",
    "_This notebook is read-only. It may be customized and run, but settings will only be saved in the newly generated projects._"
   ]
  },
  {
   "cell_type": "markdown",
   "metadata": {
    "collapsed": false
   },
   "source": [
    "-  v0.1 2016-10-07\n",
    "-  v0.2 2016-10-07 adapted to Jupyter notebook\n",
    "-  v0.3 2016-10-13 Jupyter correctly working with mallet\n",
    "-  v.04 2016-10-18 Link generation and cleanup, documentation, read only.\n",
    "-  v.05 2016-10-19 Incorporate scrubbing script, text_files_clean folder.\n",
    "-  v.06 2016-10-19 split off most of project generation into project sub-notebooks\n",
    "-  v.07 2016-10-28 add timedate stamps to project names for rapid exploration"
   ]
  },
  {
   "cell_type": "code",
   "execution_count": null,
   "metadata": {
    "collapsed": true
   },
   "outputs": [],
   "source": [
    "## INFO\n",
    "\n",
    "__author__    = 'Jeremy Douglass'\n",
    "__copyright__ = 'copyright 2016, The WE1S Project'\n",
    "__license__   = 'GPL'\n",
    "__version__   = '0.6'\n",
    "__email__     = 'jeremydouglass@gmail.com'\n"
   ]
  },
  {
   "cell_type": "code",
   "execution_count": null,
   "metadata": {
    "collapsed": true
   },
   "outputs": [],
   "source": [
    "## IMPORT\n",
    "\n",
    "from distutils.dir_util import copy_tree\n",
    "import os\n",
    "import datetime"
   ]
  },
  {
   "cell_type": "markdown",
   "metadata": {},
   "source": [
    "## VARIABLES -- FILL OUT"
   ]
  },
  {
   "cell_type": "code",
   "execution_count": null,
   "metadata": {
    "collapsed": true
   },
   "outputs": [],
   "source": [
    "## VARIABLES\n",
    "\n",
    "## Customize these to specific project name and data\n",
    "\n",
    "project_name        = 'default'\n",
    "\n",
    "template_directory  = 'templates/topic_browser_template'\n",
    "dt = datetime.datetime.today().strftime('%Y%m%d_%H%M_')\n",
    "project_directory   = 'projects/' + dt + project_name\n",
    "print(project_directory)\n",
    "\n",
    "## DOCKER UPDATE NOTES\n",
    "## updated server from UTC to PST at command line with: (chose America / Los Angeles):\n",
    "#  dpkg-reconfigure tzdata"
   ]
  },
  {
   "cell_type": "code",
   "execution_count": null,
   "metadata": {
    "collapsed": true
   },
   "outputs": [],
   "source": [
    "## CREATE PROJECT\n",
    "\n",
    "if not os.path.exists(project_directory):\n",
    "    os.makedirs(project_directory)\n",
    "    "
   ]
  },
  {
   "cell_type": "code",
   "execution_count": null,
   "metadata": {
    "collapsed": false
   },
   "outputs": [],
   "source": [
    "## COPY TEMPLATE\n",
    "## Initialize new project folder with default template contents\n",
    "## -- this includes empty folders, stopwords, scripts\n",
    "\n",
    "copy_tree(template_directory, project_directory)\n"
   ]
  },
  {
   "cell_type": "markdown",
   "metadata": {},
   "source": [
    "## NEXT"
   ]
  },
  {
   "cell_type": "code",
   "execution_count": null,
   "metadata": {
    "collapsed": false
   },
   "outputs": [],
   "source": [
    "## NEXT\n",
    "## Generate a link to the next notebook\n",
    "\n",
    "from IPython.display import display, HTML\n",
    "browser_link_html = HTML('<p>A new <strong>'+ template_directory +'</strong> has been set up:<br><strong>'+ project_directory + '</strong></p><h2><a href=\"' + project_directory + '/1_import_data.ipynb\" target=\"top\">Next: Import Data.</h2>')\n",
    "display(browser_link_html)\n"
   ]
  },
  {
   "cell_type": "markdown",
   "metadata": {},
   "source": [
    "----------"
   ]
  }
 ],
 "metadata": {
  "kernelspec": {
   "display_name": "Python 2",
   "language": "python",
   "name": "python2"
  },
  "language_info": {
   "codemirror_mode": {
    "name": "ipython",
    "version": 2
   },
   "file_extension": ".py",
   "mimetype": "text/x-python",
   "name": "python",
   "nbconvert_exporter": "python",
   "pygments_lexer": "ipython2",
   "version": "2.7.11"
  },
  "widgets": {
   "state": {},
   "version": "1.1.2"
  }
 },
 "nbformat": 4,
 "nbformat_minor": 0
}

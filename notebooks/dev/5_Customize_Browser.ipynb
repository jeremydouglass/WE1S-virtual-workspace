{
 "cells": [
  {
   "cell_type": "markdown",
   "metadata": {},
   "source": [
    "# Customize Browser\n",
    "\n",
    "2016-11-10 Jeremy Douglass\n",
    "\n",
    "- v1 Change browser title, bar color"
   ]
  },
  {
   "cell_type": "code",
   "execution_count": 1,
   "metadata": {
    "collapsed": false
   },
   "outputs": [],
   "source": [
    "## http:// stackoverflow.com/questions/24579896/how-to-update-a-json-file-by-using-python\n",
    "## http:// stackoverflow.com/questions/13949637/how-to-update-json-file-with-python\n",
    "\n",
    "import json\n",
    "\n",
    "with open('browser10/data/info.json', 'r+') as f:\n",
    "    data = json.load(f)\n",
    "    data['title'] = \"LAT_WP 10 Topics\" # <--- change value.\n",
    "    f.seek(0)        # <--- should reset file position to the beginning.\n",
    "    json.dump(data, f, indent=4)"
   ]
  },
  {
   "cell_type": "code",
   "execution_count": null,
   "metadata": {
    "collapsed": false
   },
   "outputs": [],
   "source": [
    "import random\n",
    "\n",
    "colors = [\\\n",
    "          'lightblue',\n",
    "          'lightcoral',\n",
    "          'lightgoldenrodyellow',\n",
    "          'lightgray',\n",
    "          'lightgreen',\n",
    "          'lightpink',\n",
    "          'lightsalmon',\n",
    "          'lightseagreen',\n",
    "          'lightskyblue',\n",
    "          'lightslate',\n",
    "          'lightsteelblue',\n",
    "          'lightyellow',\n",
    "          'orange',\n",
    "          'purple',\n",
    "          'yellow'\n",
    "]\n",
    "\n",
    "color = random.choice(colors)\n",
    "navbar_css = \".navbar-inverse { background-color: \" \\\n",
    "    + color \\\n",
    "    + \"; }\"\n",
    "\n",
    "## appends -- run only once, or parse css instead\n",
    "\n",
    "with open('browser10/css/index.css', 'a') as f:\n",
    "    f.write('\\n\\n')\n",
    "    f.write(navbar_css)\n"
   ]
  },
  {
   "cell_type": "code",
   "execution_count": null,
   "metadata": {
    "collapsed": true
   },
   "outputs": [],
   "source": [
    "import time\n",
    "time.sleep(5) # delays for 5 seconds"
   ]
  },
  {
   "cell_type": "code",
   "execution_count": null,
   "metadata": {
    "collapsed": false
   },
   "outputs": [],
   "source": [
    "print(\"Shutting down!\")\n"
   ]
  },
  {
   "cell_type": "code",
   "execution_count": null,
   "metadata": {
    "collapsed": false
   },
   "outputs": [
    {
     "data": {
      "application/javascript": [
       "Jupyter.notebook.session.delete();"
      ],
      "text/plain": [
       "<IPython.core.display.Javascript object>"
      ]
     },
     "metadata": {},
     "output_type": "display_data"
    }
   ],
   "source": [
    "%%javascript\n",
    "Jupyter.notebook.session.delete();"
   ]
  },
  {
   "cell_type": "markdown",
   "metadata": {},
   "source": [
    "## NOTES"
   ]
  },
  {
   "cell_type": "code",
   "execution_count": null,
   "metadata": {
    "collapsed": true
   },
   "outputs": [],
   "source": [
    "## for css parsing and replacement, see:\n",
    "## http:// stackoverflow.com/questions/30362301/how-do-i-edit-rule-with-cssutils-in-python/33568605#33568605\n",
    "\n",
    "## random color as a library (need to pip install)\n",
    "##   import randomcolor\n",
    "##   rand_color = randomcolor.RandomColor()\n",
    "##   print(rand_color.generate())"
   ]
  }
 ],
 "metadata": {
  "kernelspec": {
   "display_name": "Python 3",
   "language": "python",
   "name": "python3"
  },
  "language_info": {
   "codemirror_mode": {
    "name": "ipython",
    "version": 3
   },
   "file_extension": ".py",
   "mimetype": "text/x-python",
   "name": "python",
   "nbconvert_exporter": "python",
   "pygments_lexer": "ipython3",
   "version": "3.5.1"
  },
  "widgets": {
   "state": {},
   "version": "1.1.2"
  }
 },
 "nbformat": 4,
 "nbformat_minor": 0
}

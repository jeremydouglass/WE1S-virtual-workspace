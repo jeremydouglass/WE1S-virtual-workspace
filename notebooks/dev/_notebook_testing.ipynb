{
 "cells": [
  {
   "cell_type": "markdown",
   "metadata": {
    "collapsed": false
   },
   "source": [
    "# Jupyter notebook programming\n",
    "\n",
    "- 2016-11 Jeremy Douglass"
   ]
  },
  {
   "cell_type": "markdown",
   "metadata": {},
   "source": [
    "## restart a notebook"
   ]
  },
  {
   "cell_type": "code",
   "execution_count": null,
   "metadata": {
    "collapsed": false
   },
   "outputs": [],
   "source": [
    "%%javascript\n",
    "Jupyter.notebook.session.restart();"
   ]
  },
  {
   "cell_type": "markdown",
   "metadata": {},
   "source": [
    "## halt a notebook"
   ]
  },
  {
   "cell_type": "code",
   "execution_count": null,
   "metadata": {
    "collapsed": false
   },
   "outputs": [],
   "source": [
    "%%javascript\n",
    "Jupyter.notebook.session.delete();"
   ]
  },
  {
   "cell_type": "markdown",
   "metadata": {},
   "source": [
    "## pause while running"
   ]
  },
  {
   "cell_type": "code",
   "execution_count": 5,
   "metadata": {
    "collapsed": false
   },
   "outputs": [
    {
     "name": "stdout",
     "output_type": "stream",
     "text": [
      "Pausing 5\n",
      "Done.\n"
     ]
    }
   ],
   "source": [
    "import time\n",
    "delay = 5 # in seconds\n",
    "print(\"Pausing {0}\".format(delay))\n",
    "time.sleep(delay)\n",
    "print (\"Done.\")"
   ]
  },
  {
   "cell_type": "markdown",
   "metadata": {},
   "source": [
    "## dialog boxes"
   ]
  },
  {
   "cell_type": "markdown",
   "metadata": {},
   "source": [
    "### dialog: python\n",
    "\n",
    "-  http://stefaanlippens.net/jupyter-notebook-dialog.html\n",
    "-  https://github.com/jupyter-attic/jupyter-js-filebrowser/issues/12"
   ]
  },
  {
   "cell_type": "code",
   "execution_count": 37,
   "metadata": {
    "collapsed": false
   },
   "outputs": [
    {
     "data": {
      "application/javascript": [
       "\n",
       "require(\n",
       "    [\"base/js/dialog\"], \n",
       "    function(dialog) {\n",
       "        dialog.modal({\n",
       "            title: 'Hello world',\n",
       "            body: 'Hi, lorem ipsum and such',\n",
       "            buttons: {\n",
       "                'kthxbye': {}\n",
       "            }\n",
       "        });\n",
       "    }\n",
       ");\n"
      ],
      "text/plain": [
       "<IPython.core.display.Javascript object>"
      ]
     },
     "metadata": {},
     "output_type": "display_data"
    }
   ],
   "source": [
    "from IPython.display import display, Javascript\n",
    "display(Javascript(\"\"\"\n",
    "require(\n",
    "    [\"base/js/dialog\"], \n",
    "    function(dialog) {\n",
    "        dialog.modal({\n",
    "            title: 'Hello world',\n",
    "            body: 'Hi, lorem ipsum and such',\n",
    "            buttons: {\n",
    "                'kthxbye': {}\n",
    "            }\n",
    "        });\n",
    "    }\n",
    ");\n",
    "\"\"\"))\n"
   ]
  },
  {
   "cell_type": "markdown",
   "metadata": {},
   "source": [
    "### dialog: %%javascript "
   ]
  },
  {
   "cell_type": "code",
   "execution_count": 10,
   "metadata": {
    "collapsed": false
   },
   "outputs": [
    {
     "data": {
      "application/javascript": [
       "require(\n",
       "    [\"base/js/dialog\"], \n",
       "    function(dialog) {\n",
       "        dialog.modal({\n",
       "            title: 'Hello world',\n",
       "            body: 'Hi, lorem ipsum and such',\n",
       "            buttons: {\n",
       "                'kthxbye': {}\n",
       "            }\n",
       "        });\n",
       "        \n",
       "    }\n",
       ");"
      ],
      "text/plain": [
       "<IPython.core.display.Javascript object>"
      ]
     },
     "metadata": {},
     "output_type": "display_data"
    }
   ],
   "source": [
    "%%javascript\n",
    "require(\n",
    "    [\"base/js/dialog\"], \n",
    "    function(dialog) {\n",
    "        dialog.modal({\n",
    "            title: 'Hello world',\n",
    "            body: 'Hi, lorem ipsum and such',\n",
    "            buttons: {\n",
    "                'kthxbye': {}\n",
    "            }\n",
    "        });\n",
    "        \n",
    "    }\n",
    ");"
   ]
  },
  {
   "cell_type": "markdown",
   "metadata": {},
   "source": [
    "### dialog: halt / restart\n",
    "\n",
    "\n",
    "When included at the bottom of a notebook, it will stop the notebook at the end of Run All, and pop up a modal dialog letting the user know that the notebook was auto-stopped at the end of the run. The dialog offers a \"Kernel Restart\" button which restarts the notebook."
   ]
  },
  {
   "cell_type": "code",
   "execution_count": null,
   "metadata": {
    "collapsed": false
   },
   "outputs": [
    {
     "data": {
      "application/javascript": [
       "require(\n",
       "    [\"base/js/dialog\"], \n",
       "    function(dialog) {\n",
       "        dialog.modal({\n",
       "                title: 'Notebook Halted',\n",
       "                body: 'This notebook is no longer running; the kernel has been halted. To continue working, restart the kernel.',\n",
       "                buttons: {\n",
       "                    'Kernel restart': { click: function(){Jupyter.notebook.session.restart();} }\n",
       "                }\n",
       "        });\n",
       "    }\n",
       ");\n",
       "Jupyter.notebook.session.delete();\n",
       "\n",
       "// https://github.com/jupyter/notebook/blob/master/notebook/static/base/js/dialog.js#L191\n",
       "\n"
      ],
      "text/plain": [
       "<IPython.core.display.Javascript object>"
      ]
     },
     "metadata": {},
     "output_type": "display_data"
    }
   ],
   "source": [
    "%%javascript\n",
    "require(\n",
    "    [\"base/js/dialog\"], \n",
    "    function(dialog) {\n",
    "        dialog.modal({\n",
    "                title: 'Notebook Halted',\n",
    "                body: 'This notebook is no longer running; the kernel has been halted. Close the browser tab, or, to continue working, restart the kernel.',\n",
    "                buttons: {\n",
    "                    'Kernel restart': { click: function(){Jupyter.notebook.session.restart();} }\n",
    "                }\n",
    "        });\n",
    "    }\n",
    ");\n",
    "Jupyter.notebook.session.delete();\n",
    "\n",
    "// https://github.com/jupyter/notebook/blob/master/notebook/static/base/js/dialog.js#L191\n",
    "// https://groups.google.com/forum/#!topic/jupyter/3zAVHofQykg\n",
    "\n"
   ]
  },
  {
   "cell_type": "markdown",
   "metadata": {},
   "source": [
    "## list of jupyter commands\n",
    "\n",
    "-  https://groups.google.com/forum/#!topic/jupyter/BqpJxPw9UQw\n",
    "-  http://nbviewer.jupyter.org/gist/rdhyee/6131622\n",
    "-  http://www.w3schools.com/js/js_output.asp"
   ]
  },
  {
   "cell_type": "code",
   "execution_count": 3,
   "metadata": {
    "collapsed": false
   },
   "outputs": [
    {
     "data": {
      "application/javascript": [
       "\n",
       "  var jc_html = \"\";\n",
       "  var jc_array = Object.keys(IPython.notebook.keyboard_manager.command_shortcuts.actions._actions);\n",
       "  for (var i=0;i<jc_array.length;i++) {\n",
       "    jc_html = jc_html + jc_array[i] + \"<br >\";\n",
       "  }\n",
       "  element.html(jc_html);\n",
       "  "
      ],
      "text/plain": [
       "<IPython.core.display.Javascript object>"
      ]
     },
     "execution_count": 3,
     "metadata": {},
     "output_type": "execute_result"
    }
   ],
   "source": [
    "from IPython.core.display import Javascript\n",
    "\n",
    "js = \"\"\"\n",
    "  var jc_html = \"\";\n",
    "  var jc_array = Object.keys(IPython.notebook.keyboard_manager.command_shortcuts.actions._actions);\n",
    "  for (var i=0;i<jc_array.length;i++) {\n",
    "    jc_html = jc_html + jc_array[i] + \"<br >\";\n",
    "  }\n",
    "  element.html(jc_html);\n",
    "  \"\"\"\n",
    "\n",
    "Javascript(data=js, lib=None, css=None)\n"
   ]
  },
  {
   "cell_type": "markdown",
   "metadata": {},
   "source": [
    "## list of magic commands"
   ]
  },
  {
   "cell_type": "code",
   "execution_count": null,
   "metadata": {
    "collapsed": true
   },
   "outputs": [],
   "source": [
    "%%magic"
   ]
  },
  {
   "cell_type": "markdown",
   "metadata": {},
   "source": [
    "## Embedded Terminal (Hack)\n",
    "\n",
    "-  https://groups.google.com/forum/#!topic/jupyter/j53u1fu0-gU  "
   ]
  },
  {
   "cell_type": "code",
   "execution_count": 11,
   "metadata": {
    "collapsed": false
   },
   "outputs": [
    {
     "name": "stdout",
     "output_type": "stream",
     "text": [
      "Type 'exit' to close\n"
     ]
    },
    {
     "data": {
      "text/html": [
       "\n",
       "        <iframe\n",
       "            width=\"800\"\n",
       "            height=\"375\"\n",
       "            src=\"http://mirrormask.english.ucsb.edu:9999/terminals/1\"\n",
       "            frameborder=\"0\"\n",
       "            allowfullscreen\n",
       "        ></iframe>\n",
       "        "
      ],
      "text/plain": [
       "<IPython.lib.display.IFrame at 0x7fcc917bb6a0>"
      ]
     },
     "execution_count": 11,
     "metadata": {},
     "output_type": "execute_result"
    }
   ],
   "source": [
    "from IPython.display import IFrame\n",
    "print(\"Type 'exit' to close\")\n",
    "IFrame(\"http://mirrormask.english.ucsb.edu:9999/terminals/1\", width=800, height=375)"
   ]
  },
  {
   "cell_type": "markdown",
   "metadata": {},
   "source": [
    "----------\n",
    "\n",
    "# NOTES\n",
    "\n",
    "----------"
   ]
  },
  {
   "cell_type": "markdown",
   "metadata": {
    "collapsed": false
   },
   "source": [
    "## d3- \n",
    "\n",
    "-  http://blog.thedataincubator.com/2015/08/embedding-d3-in-an-ipython-notebook/"
   ]
  },
  {
   "cell_type": "markdown",
   "metadata": {},
   "source": [
    "## ssl\n",
    "\n",
    "-  https://groups.google.com/forum/#!topic/jupyter/PhSNYuDYn9E"
   ]
  },
  {
   "cell_type": "markdown",
   "metadata": {},
   "source": [
    "## cell history\n",
    "\n",
    "-  https://groups.google.com/forum/#!topic/jupyter/r3ylCNFYW30"
   ]
  },
  {
   "cell_type": "markdown",
   "metadata": {},
   "source": [
    "## output of long running kernels\n",
    "\n",
    "-  https://groups.google.com/forum/#!topic/jupyter/O97F4L1Xy00"
   ]
  },
  {
   "cell_type": "markdown",
   "metadata": {},
   "source": [
    "## jupyter to jupyterhub\n",
    "\n",
    "Update Jupyter soon to get\n",
    "\n",
    "-  date modified in file list https://groups.google.com/forum/#!topic/jupyter/Sy9j2vvSRj0\n",
    "-  time running in Running tab\n",
    "\n",
    "-----\n",
    "\n",
    "-  JupyterHub Tutorial\n",
    "   -  https://github.com/jupyterhub/jupyterhub-tutorial\n",
    "   -  https://groups.google.com/forum/#!topic/jupyter/DLrOV8Gn9B0\n",
    "-  JupyterHub and SSL\n",
    "   -  https://groups.google.com/forum/#!topic/jupyter/LBT548e4ptg\n",
    "   -  https://groups.google.com/forum/#!topic/jupyter/cOoXEzRxDLk\n",
    "-  JupyterHubuser authentication\n",
    "   -  https://groups.google.com/forum/#!topic/jupyter/Vfzpx0QstLk\n",
    "   -  https://groups.google.com/forum/#!topic/jupyter/2ySHtHjKaKM\n",
    "-  JupyterHub on CentOS\n",
    "   -  https://groups.google.com/forum/#!topic/jupyter/ZdK6GAPszXc\n",
    "   -  Install Docker on CentOS https://docs.docker.com/engine/installation/linux/centos/\n",
    "-  JupyterHub with Docker\n",
    "   -  https://groups.google.com/forum/#!topic/jupyter/XsxrMtoNR1g\n",
    "   -  details in this thread https://github.com/jupyterhub/jupyterhub/issues/803\n",
    "   -  systemd spawner for jupyter https://groups.google.com/forum/#!topic/jupyter/_-BVmhTsG88\n",
    "   -  custom spawners https://groups.google.com/forum/#!topic/jupyter/ESAMbMWevB4\n",
    "   -  private docker registries http://mindtrove.info/control-read-write-access-docker-private-registry/\n",
    "-  JupyterLab SOMEDAY\n",
    "   -  JupyterLab migration https://groups.google.com/forum/#!topic/jupyter/f24DRmW6tOA\n",
    "   -  extensions https://groups.google.com/forum/#!topic/jupyter/y6OkudRoFnY\n",
    "\n",
    "---\n",
    "\n",
    "-  Misc: Project Jupyter monthly newsletter\n",
    "   -  https://groups.google.com/forum/#!topic/jupyter/dcaJpfYJIao\n",
    "   -  https://github.com/jupyter/newsletter/issues\n",
    "   "
   ]
  },
  {
   "cell_type": "markdown",
   "metadata": {},
   "source": [
    "# NOTEBOOK WORKFLOWS\n",
    "\n",
    "Looks like somebody else had the same idea I did -- and started to work on passing arugments down the chain; there are pre-existing tools for argument passing oriented around template-based flows -- this looks EXCELLENT.\n",
    "    \n",
    "-  Executing One Notebook From Another, Passing Through Processed Markdown https://groups.google.com/forum/#!topic/jupyter/J42qhkFA_0s\n",
    "-  https://github.com/tritemio/nbrun\n",
    "    \n",
    "    Batch-run Jupyter IPython notebooks optionally passing arguments.\n",
    "    \n",
    "see also linking, related to my linking scheme:\n",
    "\n",
    "-  open notebook jupyter from another notebook jupyter cell https://groups.google.com/forum/#!topic/jupyter/-N7oz0ZW7hM\n",
    "\n"
   ]
  },
  {
   "cell_type": "markdown",
   "metadata": {
    "collapsed": true
   },
   "source": [
    "# nbgrader\n",
    "\n",
    "-  http://nbgrader.readthedocs.io/en/stable/user_guide/philosophy.html\n",
    "-  https://groups.google.com/forum/#!topic/jupyter/s35L_0LYRno\n",
    "-  https://groups.google.com/forum/#!topic/jupyter/GUpcf0hTgzI\n",
    "-  https://groups.google.com/forum/#!forum/jupyter-education\n"
   ]
  },
  {
   "cell_type": "markdown",
   "metadata": {},
   "source": [
    "# Widget tests\n"
   ]
  },
  {
   "cell_type": "code",
   "execution_count": 4,
   "metadata": {
    "collapsed": false
   },
   "outputs": [
    {
     "name": "stdout",
     "output_type": "stream",
     "text": [
      "Collecting bqplot\n",
      "  Downloading bqplot-0.8.4-py2.py3-none-any.whl (1.4MB)\n",
      "\u001b[K    100% |████████████████████████████████| 1.4MB 280kB/s \n",
      "\u001b[?25hCollecting ipywidgets>=5.2.2 (from bqplot)\n",
      "  Downloading ipywidgets-5.2.2-py2.py3-none-any.whl (43kB)\n",
      "\u001b[K    100% |████████████████████████████████| 51kB 1.8MB/s \n",
      "\u001b[?25hRequirement already satisfied: numpy>=1.10.4 in /opt/conda/lib/python3.5/site-packages (from bqplot)\n",
      "Requirement already satisfied: pandas in /opt/conda/lib/python3.5/site-packages (from bqplot)\n",
      "Collecting traittypes>=0.0.6 (from bqplot)\n",
      "  Downloading traittypes-0.0.6-py2.py3-none-any.whl\n",
      "Collecting traitlets>=4.3.0 (from bqplot)\n",
      "  Downloading traitlets-4.3.1-py2.py3-none-any.whl (74kB)\n",
      "\u001b[K    100% |████████████████████████████████| 81kB 2.6MB/s \n",
      "\u001b[?25hRequirement already satisfied: ipython>=4.0.0 in /opt/conda/lib/python3.5/site-packages (from ipywidgets>=5.2.2->bqplot)\n",
      "Requirement already satisfied: ipykernel>=4.2.2 in /opt/conda/lib/python3.5/site-packages (from ipywidgets>=5.2.2->bqplot)\n",
      "Collecting widgetsnbextension>=1.2.6 (from ipywidgets>=5.2.2->bqplot)\n",
      "  Downloading widgetsnbextension-1.2.6-py2.py3-none-any.whl (1.5MB)\n",
      "\u001b[K    100% |████████████████████████████████| 1.5MB 283kB/s \n",
      "\u001b[?25hRequirement already satisfied: python-dateutil>=2 in /opt/conda/lib/python3.5/site-packages (from pandas->bqplot)\n",
      "Requirement already satisfied: pytz>=2011k in /opt/conda/lib/python3.5/site-packages (from pandas->bqplot)\n",
      "Requirement already satisfied: decorator in /opt/conda/lib/python3.5/site-packages (from traitlets>=4.3.0->bqplot)\n",
      "Requirement already satisfied: six in /opt/conda/lib/python3.5/site-packages (from traitlets>=4.3.0->bqplot)\n",
      "Requirement already satisfied: ipython-genutils in /opt/conda/lib/python3.5/site-packages (from traitlets>=4.3.0->bqplot)\n",
      "Requirement already satisfied: pickleshare in /opt/conda/lib/python3.5/site-packages (from ipython>=4.0.0->ipywidgets>=5.2.2->bqplot)\n",
      "Requirement already satisfied: simplegeneric>0.8 in /opt/conda/lib/python3.5/site-packages (from ipython>=4.0.0->ipywidgets>=5.2.2->bqplot)\n",
      "Requirement already satisfied: pexpect; sys_platform != \"win32\" in /opt/conda/lib/python3.5/site-packages (from ipython>=4.0.0->ipywidgets>=5.2.2->bqplot)\n",
      "Requirement already satisfied: setuptools>=18.5 in /opt/conda/lib/python3.5/site-packages/setuptools-23.0.0-py3.5.egg (from ipython>=4.0.0->ipywidgets>=5.2.2->bqplot)\n",
      "Requirement already satisfied: backports.shutil-get-terminal-size in /opt/conda/lib/python3.5/site-packages (from ipython>=4.0.0->ipywidgets>=5.2.2->bqplot)\n",
      "Requirement already satisfied: notebook>=4.2.0 in /opt/conda/lib/python3.5/site-packages (from widgetsnbextension>=1.2.6->ipywidgets>=5.2.2->bqplot)\n",
      "Requirement already satisfied: terminado>=0.3.3; sys_platform != \"win32\" in /opt/conda/lib/python3.5/site-packages (from notebook>=4.2.0->widgetsnbextension>=1.2.6->ipywidgets>=5.2.2->bqplot)\n",
      "Requirement already satisfied: nbconvert in /opt/conda/lib/python3.5/site-packages (from notebook>=4.2.0->widgetsnbextension>=1.2.6->ipywidgets>=5.2.2->bqplot)\n",
      "Requirement already satisfied: nbformat in /opt/conda/lib/python3.5/site-packages (from notebook>=4.2.0->widgetsnbextension>=1.2.6->ipywidgets>=5.2.2->bqplot)\n",
      "Requirement already satisfied: tornado>=4 in /opt/conda/lib/python3.5/site-packages (from notebook>=4.2.0->widgetsnbextension>=1.2.6->ipywidgets>=5.2.2->bqplot)\n",
      "Requirement already satisfied: jupyter-client in /opt/conda/lib/python3.5/site-packages (from notebook>=4.2.0->widgetsnbextension>=1.2.6->ipywidgets>=5.2.2->bqplot)\n",
      "Requirement already satisfied: jinja2 in /opt/conda/lib/python3.5/site-packages (from notebook>=4.2.0->widgetsnbextension>=1.2.6->ipywidgets>=5.2.2->bqplot)\n",
      "Requirement already satisfied: jupyter-core in /opt/conda/lib/python3.5/site-packages (from notebook>=4.2.0->widgetsnbextension>=1.2.6->ipywidgets>=5.2.2->bqplot)\n",
      "Requirement already satisfied: MarkupSafe in /opt/conda/lib/python3.5/site-packages (from jinja2->notebook>=4.2.0->widgetsnbextension>=1.2.6->ipywidgets>=5.2.2->bqplot)\n",
      "Installing collected packages: traitlets, widgetsnbextension, ipywidgets, traittypes, bqplot\n",
      "  Found existing installation: traitlets 4.2.1\n",
      "\u001b[31m    DEPRECATION: Uninstalling a distutils installed project (traitlets) has been deprecated and will be removed in a future version. This is due to the fact that uninstalling a distutils project will only partially uninstall the project.\u001b[0m\n",
      "    Uninstalling traitlets-4.2.1:\n",
      "      Successfully uninstalled traitlets-4.2.1\n",
      "  Found existing installation: widgetsnbextension 1.2.3\n",
      "    Uninstalling widgetsnbextension-1.2.3:\n",
      "      Successfully uninstalled widgetsnbextension-1.2.3\n",
      "  Found existing installation: ipywidgets 5.1.5\n",
      "    Uninstalling ipywidgets-5.1.5:\n",
      "      Successfully uninstalled ipywidgets-5.1.5\n",
      "Successfully installed bqplot-0.8.4 ipywidgets-5.2.2 traitlets-4.3.1 traittypes-0.0.6 widgetsnbextension-1.2.6\n"
     ]
    }
   ],
   "source": [
    "!pip install bqplot"
   ]
  },
  {
   "cell_type": "code",
   "execution_count": null,
   "metadata": {
    "collapsed": false
   },
   "outputs": [],
   "source": [
    "# http://jupyter.org/widgets.html\n",
    "\n",
    "# times out -- cell never returns\n",
    "\n",
    "import numpy as np\n",
    "import bqplot.pyplot as plt\n",
    "\n",
    "size = 100\n",
    "\n",
    "plt.figure(title='Scatter plot with colors')\n",
    "plt.scatter(np.random.randn(size), np.random.randn(size), color=np.random.randn(size))\n",
    "plt.show()"
   ]
  },
  {
   "cell_type": "code",
   "execution_count": 1,
   "metadata": {
    "collapsed": false
   },
   "outputs": [
    {
     "name": "stdout",
     "output_type": "stream",
     "text": [
      "Fetching package metadata ...........\n",
      "Solving package specifications: ..........\n",
      "\n",
      "Package plan for installation in environment /opt/conda:\n",
      "\n",
      "The following packages will be downloaded:\n",
      "\n",
      "    package                    |            build\n",
      "    ---------------------------|-----------------\n",
      "    conda-env-2.5.2            |           py35_0          27 KB  conda-forge\n",
      "    conda-4.1.12               |           py35_0         205 KB  conda-forge\n",
      "    traitlets-4.3.0            |           py35_0         1.3 MB  conda-forge\n",
      "    traittypes-0.0.6           |           py35_0         326 KB  conda-forge\n",
      "    widgetsnbextension-1.2.6   |           py35_3         1.1 MB  conda-forge\n",
      "    ipywidgets-5.2.2           |           py35_2         258 KB  conda-forge\n",
      "    bqplot-0.8.4               |           py35_0         1.1 MB  conda-forge\n",
      "    ------------------------------------------------------------\n",
      "                                           Total:         4.3 MB\n",
      "\n",
      "The following NEW packages will be INSTALLED:\n",
      "\n",
      "    bqplot:             0.8.4-py35_0 conda-forge\n",
      "    traittypes:         0.0.6-py35_0 conda-forge\n",
      "\n",
      "The following packages will be UPDATED:\n",
      "\n",
      "    conda:              4.1.5-py35_0             --> 4.1.12-py35_0 conda-forge\n",
      "    conda-env:          2.5.1-py35_0             --> 2.5.2-py35_0  conda-forge\n",
      "    ipywidgets:         5.1.5-py35_0 conda-forge --> 5.2.2-py35_2  conda-forge\n",
      "    traitlets:          4.2.1-py35_0 conda-forge --> 4.3.0-py35_0  conda-forge\n",
      "    widgetsnbextension: 1.2.3-py35_1 conda-forge --> 1.2.6-py35_3  conda-forge\n",
      "\n",
      "Proceed ([y]/n)? ^C\n",
      "\n",
      "Operation aborted.  Exiting.\n"
     ]
    }
   ],
   "source": [
    "!conda install -c conda-forge bqplot"
   ]
  },
  {
   "cell_type": "code",
   "execution_count": null,
   "metadata": {
    "collapsed": true
   },
   "outputs": [],
   "source": []
  }
 ],
 "metadata": {
  "kernelspec": {
   "display_name": "Python 3",
   "language": "python",
   "name": "python3"
  },
  "language_info": {
   "codemirror_mode": {
    "name": "ipython",
    "version": 3
   },
   "file_extension": ".py",
   "mimetype": "text/x-python",
   "name": "python",
   "nbconvert_exporter": "python",
   "pygments_lexer": "ipython3",
   "version": "3.5.1"
  }
 },
 "nbformat": 4,
 "nbformat_minor": 0
}

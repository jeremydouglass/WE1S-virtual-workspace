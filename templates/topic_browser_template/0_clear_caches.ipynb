{
 "cells": [
  {
   "cell_type": "markdown",
   "metadata": {},
   "source": [
    "# Clear Caches\n",
    "\n",
    "Delete all intermediate files, resetting project to clean state."
   ]
  },
  {
   "cell_type": "code",
   "execution_count": null,
   "metadata": {},
   "outputs": [],
   "source": [
    "## VARIABLES\n",
    "\n",
    "from settings import caches"
   ]
  },
  {
   "cell_type": "code",
   "execution_count": null,
   "metadata": {},
   "outputs": [],
   "source": [
    "## CLEAR CACHES\n",
    "\n",
    "!rm -fr {caches}\n",
    "!mkdir -p {caches}\n"
   ]
  },
  {
   "cell_type": "code",
   "execution_count": null,
   "metadata": {},
   "outputs": [],
   "source": [
    "## CLEAR MISC\n",
    "\n",
    "!rm -f  scripts/deduplicate/corpus_compare.csv\n",
    "!rm -f  scripts/deduplicate/corpus_compare.log\n",
    "!rm -f  corpus_compare.log\n",
    "\n",
    "!rm -fr browser\n",
    "!rm -f  browser.zip\n"
   ]
  },
  {
   "cell_type": "code",
   "execution_count": null,
   "metadata": {},
   "outputs": [],
   "source": [
    "## CHECK\n",
    "# !ls -R1 caches"
   ]
  },
  {
   "cell_type": "code",
   "execution_count": null,
   "metadata": {},
   "outputs": [],
   "source": [
    "## STRIP OUTPUT FROM NOTEBOOK CELLS\n",
    "\n",
    "## requires nbstripout:\n",
    "##   pip install nbstripout; nbstripout install\n",
    "\n",
    "## instead of\n",
    "##   !nbstripout *.ipynb\n",
    "## strip output from every notebook except this running one.\n",
    "\n",
    "!find . -maxdepth 3 -type f ! -name \"0_clear_caches.ipynb\" -name \"*.ipynb\" -exec nbstripout {} +\n",
    "\n",
    "## could follow with\n",
    "##   !nbstripout 0_clear_caches.ipynb\n",
    "## although easier to just write protect the notebook.\n"
   ]
  },
  {
   "cell_type": "markdown",
   "metadata": {},
   "source": [
    "----------"
   ]
  }
 ],
 "metadata": {
  "kernelspec": {
   "display_name": "Python 3",
   "language": "python",
   "name": "python3"
  },
  "language_info": {
   "codemirror_mode": {
    "name": "ipython",
    "version": 3
   },
   "file_extension": ".py",
   "mimetype": "text/x-python",
   "name": "python",
   "nbconvert_exporter": "python",
   "pygments_lexer": "ipython3",
   "version": "3.5.1"
  }
 },
 "nbformat": 4,
 "nbformat_minor": 0
}

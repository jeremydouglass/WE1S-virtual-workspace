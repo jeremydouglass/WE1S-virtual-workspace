{
 "cells": [
  {
   "cell_type": "markdown",
   "metadata": {},
   "source": [
    "# Make Topic Model\n",
    "\n",
    "Use mallet to create topic model files."
   ]
  },
  {
   "cell_type": "code",
   "execution_count": null,
   "metadata": {},
   "outputs": [],
   "source": [
    "## IMPORT\n",
    "\n",
    "import os\n"
   ]
  },
  {
   "cell_type": "code",
   "execution_count": null,
   "metadata": {},
   "outputs": [],
   "source": [
    "## SETTINGS\n",
    "\n",
    "## project directory\n",
    "project_dir    = %pwd\n",
    "print(project_dir)\n",
    "\n",
    "## import global project settings from config.py\n",
    "from settings import *\n"
   ]
  },
  {
   "cell_type": "markdown",
   "metadata": {},
   "source": [
    "## CONFIGURE"
   ]
  },
  {
   "cell_type": "code",
   "execution_count": null,
   "metadata": {},
   "outputs": [],
   "source": [
    "model_dir            = 'caches/model'\n",
    "num_topics           = '50'\n",
    "\n",
    "model_file           = 'topics.mallet'\n",
    "model_state          = 'topic-state.gz'\n",
    "model_keys           = 'keys.txt'\n",
    "model_composition    = 'composition.txt'\n",
    "model_counts         = 'topic_counts.txt'\n",
    "stopwords_dir        = 'scripts/scrub'\n",
    "stopwords_file       = 'stopwords.txt'\n",
    "\n",
    "!mkdir -p {model_dir}\n"
   ]
  },
  {
   "cell_type": "code",
   "execution_count": null,
   "metadata": {},
   "outputs": [],
   "source": [
    "## 1. run mallet -- import\n",
    "\n",
    "## build the mallet import command string\n",
    "mallet_import_args = '--input ' + project_dir + '/' + text_files_clean_dir + '/ ' \\\n",
    "  + '--output ' + project_dir + '/' + model_dir + '/' + model_file + ' ' \\\n",
    "  + '--keep-sequence ' \\\n",
    "  + '--remove-stopwords ' \\\n",
    "  + '--extra-stopwords ' + project_dir + '/' + stopwords_dir + '/' + stopwords_file + ' '\n",
    "mallet_import_command = 'mallet import-dir ' + mallet_import_args\n",
    "print(mallet_import_command+'\\n')\n",
    "\n",
    "## run mallet; capture and display output\n",
    "mout = !mallet import-dir {mallet_import_args}\n",
    "print('\\n'.join(mout)+'\\n')\n",
    "\n",
    "print(os.listdir(project_dir + '/' + model_dir))\n",
    "\n",
    "print('\\n-----\\nModel import done.')"
   ]
  },
  {
   "cell_type": "code",
   "execution_count": null,
   "metadata": {},
   "outputs": [],
   "source": [
    "## 2. run mallet -- train\n",
    "\n",
    "## build the mallet training command string\n",
    "mallet_train_args = '--input ' + project_dir + '/' + model_dir + '/' + model_file + ' ' \\\n",
    "  + '--num-topics ' + num_topics + ' ' \\\n",
    "  + '--optimize-interval 10 ' \\\n",
    "  + '--output-state ' + project_dir + '/' + model_dir + '/' + model_state + ' ' \\\n",
    "  + '--output-topic-keys ' + project_dir + '/' + model_dir + '/' + model_keys + ' ' \\\n",
    "  + '--output-doc-topics ' + project_dir + '/' + model_dir + '/' + model_composition + ' ' \\\n",
    "  + '--word-topic-counts-file ' + project_dir + '/' + model_dir + '/' + model_counts\n",
    "mallet_train_command = 'mallet train-topics ' + mallet_train_args\n",
    "print(mallet_train_command+'\\n')\n",
    "\n",
    "## run mallet\n",
    "!mallet train-topics {mallet_train_args}\n",
    "print(os.listdir(project_dir + '/' + model_dir))\n",
    "\n",
    "print('\\n-----\\nModel training done.')\n",
    "\n",
    "## run mallet -- train\n",
    "\n",
    "# mallet_train_args = '--input ' + project_directory + '/' + model_directory + '/' + model_file + ' ' \\\n",
    "#   + '--num-topics 50 ' \\\n",
    "#   + '--optimize-interval 10 ' \\\n",
    "#   + '--output-state ' + project_directory + '/model/topic-state.gz ' \\\n",
    "#   + '--output-topic-keys ' + project_directory + '/model/keys.txt ' \\\n",
    "#   + '--output-doc-topics ' + project_directory + '/model/composition.txt ' \\\n",
    "#   + '--word-topic-counts-file ' + project_directory + '/model/topic_counts.txt'\n",
    "# mallet_train_command = 'mallet train-topics ' + mallet_train_args\n",
    "# print(mallet_train_command+'\\n')\n",
    "# !mallet train-topics {mallet_train_args}\n",
    "# print(os.listdir(project_directory + '/model/'))\n"
   ]
  },
  {
   "cell_type": "markdown",
   "metadata": {},
   "source": [
    "## NEXT"
   ]
  },
  {
   "cell_type": "code",
   "execution_count": null,
   "metadata": {},
   "outputs": [],
   "source": [
    "## NEXT\n",
    "## Generate a link to the next notebook in the workflow\n",
    "\n",
    "from IPython.display import display, HTML\n",
    "browser_link_html = HTML('<p>The topic model is built.</p><h2><a href=\"4_make_topic_browser.ipynb\" target=\"_blank\">Next: Make the topic browser.</h2>')\n",
    "display(browser_link_html)\n"
   ]
  },
  {
   "cell_type": "markdown",
   "metadata": {},
   "source": [
    "----------"
   ]
  }
 ],
 "metadata": {
  "kernelspec": {
   "display_name": "Python 3",
   "language": "python",
   "name": "python3"
  },
  "language_info": {
   "codemirror_mode": {
    "name": "ipython",
    "version": 3
   },
   "file_extension": ".py",
   "mimetype": "text/x-python",
   "name": "python",
   "nbconvert_exporter": "python",
   "pygments_lexer": "ipython3",
   "version": "3.5.1"
  }
 },
 "nbformat": 4,
 "nbformat_minor": 0
}

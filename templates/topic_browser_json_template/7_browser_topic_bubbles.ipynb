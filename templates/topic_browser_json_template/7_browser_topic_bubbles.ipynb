{
 "cells": [
  {
   "cell_type": "markdown",
   "metadata": {},
   "source": [
    "# Topic Bubbles\n"
   ]
  },
  {
   "cell_type": "code",
   "execution_count": null,
   "metadata": {},
   "outputs": [],
   "source": [
    "import os\n",
    "# print(os.path.abspath(os.getcwd()))\n",
    "\n",
    "published_site_folder_name = os.path.basename(os.getcwd())\n",
    "print('Project name:', published_site_folder_name)"
   ]
  },
  {
   "cell_type": "markdown",
   "metadata": {},
   "source": [
    "## import data into project browser folder"
   ]
  },
  {
   "cell_type": "code",
   "execution_count": null,
   "metadata": {},
   "outputs": [],
   "source": [
    "!cp -rf browser/data scripts/topic-bubbles/\n",
    "!ls -la scripts/topic-bubbles/data"
   ]
  },
  {
   "cell_type": "markdown",
   "metadata": {},
   "source": [
    "## publish to public viewer"
   ]
  },
  {
   "cell_type": "code",
   "execution_count": null,
   "metadata": {},
   "outputs": [],
   "source": [
    "publish_path = '/home/jovyan/view/test2/topic-bubbles/' + published_site_folder_name + '/'\n",
    "print(publish_path)"
   ]
  },
  {
   "cell_type": "code",
   "execution_count": null,
   "metadata": {},
   "outputs": [],
   "source": [
    "!cp -rf scripts/topic-bubbles {publish_path}\n",
    "!ls -la {publish_path}"
   ]
  },
  {
   "cell_type": "markdown",
   "metadata": {},
   "source": [
    "## browse your Topic Browser"
   ]
  },
  {
   "cell_type": "code",
   "execution_count": null,
   "metadata": {},
   "outputs": [],
   "source": [
    "path_parts = publish_path.split('view')\n",
    "publish_url = 'http://harbor.english.ucsb.edu:10002' + path_parts[1]\n",
    "from IPython.display import display, HTML\n",
    "\n",
    "browser_link_html = HTML('<h2><a href=\"' + publish_url + '\" target=\"_blank\">' + publish_url + '</a></h2>')\n",
    "display(browser_link_html)\n"
   ]
  },
  {
   "cell_type": "code",
   "execution_count": null,
   "metadata": {},
   "outputs": [],
   "source": []
  }
 ],
 "metadata": {
  "kernelspec": {
   "display_name": "Python 3",
   "language": "python",
   "name": "python3"
  },
  "language_info": {
   "codemirror_mode": {
    "name": "ipython",
    "version": 3
   },
   "file_extension": ".py",
   "mimetype": "text/x-python",
   "name": "python",
   "nbconvert_exporter": "python",
   "pygments_lexer": "ipython3",
   "version": "3.6.2"
  }
 },
 "nbformat": 4,
 "nbformat_minor": 2
}

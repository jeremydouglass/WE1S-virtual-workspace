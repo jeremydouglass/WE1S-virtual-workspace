{
 "cells": [
  {
   "cell_type": "markdown",
   "metadata": {},
   "source": [
    "# Make Topic Browser\n",
    "\n",
    "Create a DFR topic browser site.\n",
    "Data exploration can be done through live online browsing or download.\n",
    "\n",
    "_This is an R notebook, not a Python notebook!_\n",
    "\n",
    "-  v1 Andrew Goldstone\n",
    "-  v2 Lindsay Thomas\n",
    "-  v3 Jeremy Douglass\n",
    "-  ...\n",
    "-  v3.4 2016-10-18 renamed for modular workflow\n",
    "-  v3.5 2016-10-24 changed input to metadata-dfrb.csv\n",
    "-  v3.5 2016-10-25 added dfrb.min.js swap, removed comment on \"Not all expected metadata columns are present\" warning now that columns are reordered and renamed during clean stage\n",
    "-  v3.6 2016-11-07 user parameters for model input and browser output\n",
    "-  v3.7 2017-10-31 replace dfrb.min.js from safe template source area\n",
    "-  v3.8 2017-10-31 relocate all caches\n",
    "\n",
    "This could be revised according to the Ode to Here: https://gist.github.com/jennybc/362f52446fe1ebc4c49f"
   ]
  },
  {
   "cell_type": "markdown",
   "metadata": {},
   "source": [
    "## SETTINGS"
   ]
  },
  {
   "cell_type": "code",
   "execution_count": null,
   "metadata": {},
   "outputs": [],
   "source": [
    "caches              <- \"caches\"\n",
    "\n",
    "metadataDir         <- \"caches/metadata\"\n",
    "metadataFile        <- \"caches/metadata/metadata.csv\"\n",
    "metadataFileReorder <- \"caches/metadata/metadata-dfrb.csv\"\n",
    "\n",
    "modelDir            <- \"caches/model\"\n",
    "modelFile             <- \"topics.mallet\"\n",
    "modelState            <- \"topic-state.gz\"\n",
    "modelKeys             <- \"keys.txt\"\n",
    "modelComposition      <- \"composition.txt\"\n",
    "modelCounts           <- \"topic_counts.txt\"\n",
    "\n",
    "dfbScript           <- \"scripts/dfrbrowser/js/dfb.min.js.custom\"\n",
    "dfbOutputDir        <- \"browser\"\n",
    "dfbZipFile          <- \"browser.zip\"\n",
    "\n",
    "# these settings could also be externalized as a file, e.g.\n",
    "#    config.R\n",
    "# and then loaded with:\n",
    "#    source(\"config.R\")\n",
    "\n",
    "# to access shared YAML settings, see:\n",
    "#    https://stackoverflow.com/a/5276466/7207622"
   ]
  },
  {
   "cell_type": "markdown",
   "metadata": {},
   "source": [
    "## RUN"
   ]
  },
  {
   "cell_type": "code",
   "execution_count": null,
   "metadata": {},
   "outputs": [],
   "source": [
    "## increase available working memory. Must be done before installing dfrtopics.\n",
    "## not sure if this needs to be done if not using dfrtopics for modeling, though\n",
    "\n",
    "options(java.parameters=\"-Xmx2g\")"
   ]
  },
  {
   "cell_type": "code",
   "execution_count": null,
   "metadata": {},
   "outputs": [],
   "source": [
    "## set working directory to whatever directory holds required files\n",
    "\n",
    "## don't need to set the working dir if it is this project folder\n",
    "# setwd(\"/home/jovyan/work/write/projects/MY_PROJECT_NAME_HERE/\")\n",
    "\n",
    "cat(list.files(), sep = \"\\n\")"
   ]
  },
  {
   "cell_type": "code",
   "execution_count": null,
   "metadata": {},
   "outputs": [],
   "source": [
    "## include required packages\n",
    "\n",
    "library(\"rJava\")\n",
    "\n",
    "library(\"dplyr\")\n",
    "library(\"ggplot2\")\n",
    "library(\"lubridate\")\n",
    "library(\"stringr\")\n",
    "library(\"readr\")\n",
    "\n",
    "library(\"mallet\")\n",
    "library(\"dfrtopics\")"
   ]
  },
  {
   "cell_type": "markdown",
   "metadata": {},
   "source": [
    "**Expected Warning**: \"Attaching package: ‘dplyr’...\" "
   ]
  },
  {
   "cell_type": "code",
   "execution_count": null,
   "metadata": {},
   "outputs": [],
   "source": [
    "## bigtabulate is optional -- causes errors in load_from_mallet_state\n",
    "\n",
    "# library(\"bigtabulate\")"
   ]
  },
  {
   "cell_type": "markdown",
   "metadata": {},
   "source": [
    "## Topics"
   ]
  },
  {
   "cell_type": "code",
   "execution_count": null,
   "metadata": {},
   "outputs": [],
   "source": [
    "## Load topic model from MALLET.\n",
    "## Default is already created with project,\n",
    "## customize with alternate filename if running new models.\n",
    "\n",
    "## workaround: temporarily change python to python2, then back\n",
    "Sys.setenv(PATH = \"/opt/conda/envs/python2/bin:/opt/conda/bin:/usr/local/sbin:/usr/local/bin:/usr/sbin:/usr/bin:/sbin:/bin\")\n",
    "system(\"python --version\")\n",
    "\n",
    "m <- load_from_mallet_state( mallet_state_file = paste0(modelDir,\"/\",modelState), instances_file = paste0(modelDir,\"/\",modelFile))\n",
    "\n",
    "## workaround end: restore python to python3\n",
    "Sys.setenv(PATH = \"/opt/conda/bin:/usr/local/sbin:/usr/local/bin:/usr/sbin:/usr/bin:/sbin:/bin\")\n",
    "system(\"python --version\")\n",
    "\n",
    "\n",
    "## -----------------------------\n",
    "\n",
    "## for debugging\n",
    "# Sys.getenv()\n",
    "# system(\"python --version\")\n",
    "\n",
    "## The error:\n",
    "## File \"/opt/conda/lib/R/library/dfrtopics/python/simplify_state.py\", line 25\n",
    "##    print \"{},{},{},{}\".format(doc,typeindex,topic,\n",
    "## SyntaxError: invalid syntax\n",
    "\n",
    "## This is a script that uses python2 syntax when default env is python3\n",
    "## Solution: switch env with conda -- in container Terminal (or from Jupyter Terminal):\n",
    "#      source activate python2"
   ]
  },
  {
   "cell_type": "markdown",
   "metadata": {},
   "source": [
    "**Expected Warning**: bigtabulate"
   ]
  },
  {
   "cell_type": "markdown",
   "metadata": {},
   "source": [
    "# Metadata"
   ]
  },
  {
   "cell_type": "code",
   "execution_count": null,
   "metadata": {},
   "outputs": [],
   "source": [
    "## Read in metadata spreadsheet, store in variable md.\n",
    "## Default is already created with project,\n",
    "## customize with alternate filename if mapping different metadata.\n",
    "\n",
    "md <- read_csv(\n",
    "    paste0(metadataFileReorder),\n",
    "    col_names=T,\n",
    "    col_types=str_c(rep(\"c\", 8),\n",
    "    collapse=\"\")\n",
    "    )"
   ]
  },
  {
   "cell_type": "code",
   "execution_count": null,
   "metadata": {},
   "outputs": [],
   "source": [
    "## change value of metadata attribute in m object to md\n",
    "\n",
    "m$metadata<-md"
   ]
  },
  {
   "cell_type": "code",
   "execution_count": null,
   "metadata": {},
   "outputs": [],
   "source": [
    "## create browser files\n",
    "\n",
    "export_browser_data(m, out_dir=dfbOutputDir, overwrite=TRUE, supporting_files=TRUE)"
   ]
  },
  {
   "cell_type": "code",
   "execution_count": null,
   "metadata": {},
   "outputs": [],
   "source": [
    "## replace javascript with WE1S custom code\n",
    "\n",
    "## back up old js\n",
    "## ...works on command line, but not from R system\n",
    "# system(\"mv dfb.min.js dfb.min.js_$(date +%Y%m%d%H%M%S)\")\n",
    "\n",
    "## copy over custom browser javascript for WE1S\n",
    "system(paste0(\"cp \", dfbScript,\" \",dfbOutputDir,\"/js/dfb.min.js\"))\n",
    "list.files(path=paste0(dfbOutputDir,'/js'), pattern=\"dfb.*\")"
   ]
  },
  {
   "cell_type": "code",
   "execution_count": null,
   "metadata": {},
   "outputs": [],
   "source": [
    "## don't need to set working directory output if we are in a project folder\n",
    "# setwd(\"/home/jovyan/work/write/projects/thisproject/\")"
   ]
  },
  {
   "cell_type": "code",
   "execution_count": null,
   "metadata": {},
   "outputs": [],
   "source": [
    "zip(dfbZipFile, paste0(dfbOutputDir,\"/\"))"
   ]
  },
  {
   "cell_type": "code",
   "execution_count": null,
   "metadata": {},
   "outputs": [],
   "source": [
    "## Generate an HTML menu with live browsing and download links\n",
    "## based on the current working directory.\n",
    "\n",
    "project_name <- basename(getwd())\n",
    "project_reldir <- strsplit( getwd(), \"/write/\" )[[1]][2]\n",
    "\n",
    "IRdisplay::display_html(data=paste(\n",
    "    \"<h2>Live</h2>\",\n",
    "    \"<p>To view the browser live:</p>\",\n",
    "    \"  <ul>\",\n",
    "    paste(\"    <li><a href='http://harbor.english.ucsb.edu:10001/\", project_reldir, \"/\", dfbOutputDir, \"/' target='_blank'>Browser LIVE</a></li>\", sep = \"\"),\n",
    "    \"  </ul>\",\n",
    "    \"<h2>Download</h2>\",\n",
    "    \"<p>To download and view the browser through a webserver hosted on your local machine:</p>\",\n",
    "    \"  <ol>\",\n",
    "    \"    <li><a href='\",dfbZipFile,\"' target='new'>Download browser.zip</a></li>\",\n",
    "    \"    <li>Unzip browser.zip</li>\",\n",
    "    \"    <li>Open a shell/terminal, and navigate to the browser directory</li>\",\n",
    "    \"    <li>On Linux / OSX, launch local webserver by running:<br><code>./bin/server</code></li>\",\n",
    "    \"    <li>View from your local webserver: <a href='http://localhost:8888/' target='_blank'>http://localhost:8888/</a></li>\",\n",
    "    \"  </ol>\"))"
   ]
  },
  {
   "cell_type": "code",
   "execution_count": null,
   "metadata": {},
   "outputs": [],
   "source": []
  }
 ],
 "metadata": {
  "kernelspec": {
   "display_name": "R",
   "language": "R",
   "name": "ir"
  },
  "language_info": {
   "codemirror_mode": "r",
   "file_extension": ".r",
   "mimetype": "text/x-r-source",
   "name": "R",
   "pygments_lexer": "r",
   "version": "3.2.2"
  }
 },
 "nbformat": 4,
 "nbformat_minor": 0
}

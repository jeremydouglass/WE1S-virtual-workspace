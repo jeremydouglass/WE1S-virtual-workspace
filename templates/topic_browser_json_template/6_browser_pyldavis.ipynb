{
 "cells": [
  {
   "cell_type": "markdown",
   "metadata": {},
   "source": [
    "# Visualise our Topic Model with pyLDAVis\n",
    "\n",
    "[pyLDAVis](https://github.com/bmabey/pyLDAvis) is a port of the R LDAVis package for interactive topic model visualization by Carson Sievert and Kenny Shirley.\n",
    "\n",
    "pyLDAvis is designed to help users interpret the topics in a topic model by examining the relevance and salience of terms in topics. Along the way, it displays tabular data which can be used to examine the model.\n",
    "\n",
    "pyLDAVis is not designed to use Mallet data out of the box. This notebook transforms the Mallet state file into the appropriate data formats before generating the visualisation. The code is based on Jeri Wieringa's blog post [Using pyLDAvis with Mallet](http://jeriwieringa.com/2018/07/17/pyLDAviz-and-Mallet/) and has been slightly altered and commented.\n",
    "\n",
    "\n",
    "### INFO\n",
    "\n",
    "__author__    = 'Scott Kleinman'  \n",
    "__copyright__ = 'copyright 2018, The WE1S Project'  \n",
    "__license__   = 'GPL'  \n",
    "__version__   = '1.0'  \n",
    "__email__     = 'scott.kleinman@csun.edu'"
   ]
  },
  {
   "cell_type": "markdown",
   "metadata": {},
   "source": [
    "## Imports"
   ]
  },
  {
   "cell_type": "code",
   "execution_count": null,
   "metadata": {},
   "outputs": [],
   "source": [
    "import gzip\n",
    "import os\n",
    "import pandas as pd\n",
    "from IPython.display import display, HTML"
   ]
  },
  {
   "cell_type": "markdown",
   "metadata": {},
   "source": [
    "## Configuration\n",
    "\n",
    "** IMPORTANT:** You can select `Cell > Run All` to generate the link to your visualisation automatically. If you wish to run the individual cells and see the tabular data, set `run_automatically` to `False`. "
   ]
  },
  {
   "cell_type": "code",
   "execution_count": null,
   "metadata": {},
   "outputs": [],
   "source": [
    "data_dir               = 'caches/model'\n",
    "topic_state_file       = 'topic-state.gz'\n",
    "pyldavis_script_path   = 'pyldavis.py' # Change to '../scripts/pylavis.py'\n",
    "run_automatically      = True\n",
    "\n",
    "# Only for local use -- Do not modify on the server\n",
    "save                   = True\n",
    "new_window             = False"
   ]
  },
  {
   "cell_type": "code",
   "execution_count": null,
   "metadata": {},
   "outputs": [],
   "source": [
    "if run_automatically == True:\n",
    "    %run {pyldavis_script_path} \n",
    "    from IPython.display import display, HTML\n",
    "    browser_link_html = HTML('<h2><a href=\"http://mirrormask.english.ucsb.edu:10001' + project_reldir + '/browser/pyldavis/pyLDAvis.html\" target=\"_blank\">View pyLDAvis</a></h2>')\n",
    "    display(browser_link_html)"
   ]
  },
  {
   "cell_type": "code",
   "execution_count": null,
   "metadata": {},
   "outputs": [],
   "source": [
    "if run_automatically == True:\n",
    "    html = \"\"\"\n",
    "    <h2 style=\"color: red;\">Stopping Processes...</h2>\n",
    "    <p style=\"color: red;\">If you used <code>Run All</code>, the error below prevents \n",
    "    the rest of the cells from running. \n",
    "    Click <a href=\"http://mirrormask.english.ucsb.edu:10001' + project_reldir + '/browser/pyldavis/pyLDAvis.html\" target=\"_blank\">here</a> to view the pyLDAvis you have generated.\"\"\"\n",
    "    html = HTML(html)\n",
    "    display(html)\n",
    "    \n",
    "    # Do not proceed if the user selects Run All\n",
    "    assert False"
   ]
  },
  {
   "cell_type": "markdown",
   "metadata": {},
   "source": [
    "# State File Functions"
   ]
  },
  {
   "cell_type": "code",
   "execution_count": null,
   "metadata": {},
   "outputs": [],
   "source": [
    "def extract_params(statefile):\n",
    "    \"\"\"Extract the alpha and beta values from the statefile.\n",
    "\n",
    "    Args:\n",
    "        statefile (str): Path to statefile produced by MALLET.\n",
    "    Returns:\n",
    "        tuple: alpha (list), beta    \n",
    "    \"\"\"\n",
    "    with gzip.open(statefile, 'r') as state:\n",
    "        params = [x.decode('utf8').strip() for x in state.readlines()[1:3]]\n",
    "    return (list(params[0].split(\":\")[1].split(\" \")), float(params[1].split(\":\")[1]))\n",
    "\n",
    "\n",
    "def state_to_df(statefile):\n",
    "    \"\"\"Transform state file into pandas dataframe.\n",
    "    The MALLET statefile is tab-separated, and the first two rows contain the alpha and beta hypterparamters.\n",
    "    \n",
    "    Args:\n",
    "        statefile (str): Path to statefile produced by MALLET.\n",
    "    Returns:\n",
    "        datframe: topic assignment for each token in each document of the model\n",
    "    \"\"\"\n",
    "    return pd.read_csv(statefile,\n",
    "                       compression='gzip',\n",
    "                       sep=' ',\n",
    "                       skiprows=[1,2]\n",
    "                       )"
   ]
  },
  {
   "cell_type": "markdown",
   "metadata": {},
   "source": [
    "## Extract Hyperparameters"
   ]
  },
  {
   "cell_type": "code",
   "execution_count": null,
   "metadata": {},
   "outputs": [],
   "source": [
    "params = extract_params(os.path.join(data_dir, topic_state_file))\n",
    "alpha = [float(x) for x in params[0][1:]]\n",
    "beta = params[1]\n",
    "print(\"Hyperparameters:\\n\")\n",
    "print(\"{}, {}\".format(alpha, beta))"
   ]
  },
  {
   "cell_type": "markdown",
   "metadata": {},
   "source": [
    "## Show Topic-State Format\n",
    "\n",
    "Show the first 10 rows of the topic-state file. Modify `df[:10]` to change the number of rows displayed."
   ]
  },
  {
   "cell_type": "code",
   "execution_count": null,
   "metadata": {},
   "outputs": [],
   "source": [
    "df = state_to_df(os.path.join(data_dir, topic_state_file))\n",
    "df['type'] = df.type.astype(str)\n",
    "\n",
    "df[:10]"
   ]
  },
  {
   "cell_type": "markdown",
   "metadata": {},
   "source": [
    "## Get the Document Lengths from the State File\n",
    "\n",
    "Shows the first 10 documents. Modify `df[:10]` to change the number of rows displayed."
   ]
  },
  {
   "cell_type": "code",
   "execution_count": null,
   "metadata": {},
   "outputs": [],
   "source": [
    "docs = df.groupby('#doc')['type'].count().reset_index(name ='doc_length')\n",
    "\n",
    "docs[:10]"
   ]
  },
  {
   "cell_type": "markdown",
   "metadata": {},
   "source": [
    "## Get the Vocabulary and Term Frequencies from the State File\n",
    "\n",
    "Shows the first 10 terms in alphabetical order. Modify `df[:10]` to change the number of rows displayed."
   ]
  },
  {
   "cell_type": "code",
   "execution_count": null,
   "metadata": {},
   "outputs": [],
   "source": [
    "# Get vocab and term frequencies from statefile\n",
    "vocab = df['type'].value_counts().reset_index()\n",
    "vocab.columns = ['type', 'term_freq']\n",
    "vocab = vocab.sort_values(by='type', ascending=True)\n",
    "\n",
    "vocab[:10]"
   ]
  },
  {
   "cell_type": "markdown",
   "metadata": {},
   "source": [
    "## Create a Topic-Term Matrix from the State File"
   ]
  },
  {
   "cell_type": "code",
   "execution_count": null,
   "metadata": {},
   "outputs": [],
   "source": [
    "# Topic-term matrix from state file\n",
    "# https://ldavis.cpsievert.me/reviews/reviews.html\n",
    "\n",
    "import sklearn.preprocessing\n",
    "\n",
    "def pivot_and_smooth(df, smooth_value, rows_variable, cols_variable, values_variable):\n",
    "    \"\"\"\n",
    "    Turns the pandas dataframe into a data matrix.\n",
    "    Args:\n",
    "        df (dataframe): aggregated dataframe \n",
    "        smooth_value (float): value to add to the matrix to account for the priors\n",
    "        rows_variable (str): name of dataframe column to use as the rows in the matrix\n",
    "        cols_variable (str): name of dataframe column to use as the columns in the matrix\n",
    "        values_variable(str): name of the dataframe column to use as the values in the matrix\n",
    "    Returns:\n",
    "        dataframe: pandas matrix that has been normalized on the rows.\n",
    "    \"\"\"\n",
    "    matrix = df.pivot(index=rows_variable, columns=cols_variable, values=values_variable).fillna(value=0)\n",
    "    matrix = matrix.values + smooth_value\n",
    "    \n",
    "    normed = sklearn.preprocessing.normalize(matrix, norm='l1', axis=1)\n",
    "    \n",
    "    return pd.DataFrame(normed)"
   ]
  },
  {
   "cell_type": "markdown",
   "metadata": {},
   "source": [
    "## Get Word-Topic Assignments\n",
    "\n",
    "Aggregates by topic and word for `phi`, the topic-term matrix, counts the number of times each word was assigned to each topic, and then sorts the resulting dataframe alphabetically by word so that it matches the order of the vocabulary frame. The beta hyperparameter is used as the smoothing value. The first 10 words are shown. Modify `phi_df[:10]` to change the number of rows displayed."
   ]
  },
  {
   "cell_type": "code",
   "execution_count": null,
   "metadata": {},
   "outputs": [],
   "source": [
    "phi_df = df.groupby(['topic', 'type'])['type'].count().reset_index(name ='token_count')\n",
    "phi_df = phi_df.sort_values(by='type', ascending=True)\n",
    "\n",
    "phi_df[:10]"
   ]
  },
  {
   "cell_type": "code",
   "execution_count": null,
   "metadata": {},
   "outputs": [],
   "source": [
    "phi = pivot_and_smooth(phi_df, beta, 'topic', 'type', 'token_count')\n",
    "\n",
    "# phi[:10]"
   ]
  },
  {
   "cell_type": "markdown",
   "metadata": {},
   "source": [
    "## Get Document-Topic Matrix\n",
    "\n",
    "Repeat the process, but focused on the documents and topics, to generate the theta document-topic matrix. Uses the alpha hyperparameter as the smoothing value. The first 10 documents are shown. Modify `theta_df[:10]` to change the number of rows displayed."
   ]
  },
  {
   "cell_type": "code",
   "execution_count": null,
   "metadata": {},
   "outputs": [],
   "source": [
    "theta_df = df.groupby(['#doc', 'topic'])['topic'].count().reset_index(name ='topic_count')\n",
    "\n",
    "theta_df[:10]"
   ]
  },
  {
   "cell_type": "code",
   "execution_count": null,
   "metadata": {},
   "outputs": [],
   "source": [
    "theta = pivot_and_smooth(theta_df, alpha , '#doc', 'topic', 'topic_count')\n",
    "\n",
    "# theta[:10]"
   ]
  },
  {
   "cell_type": "markdown",
   "metadata": {},
   "source": [
    "## Generate the Visualisation\n",
    "\n",
    "This cell saves the visualisation file to your project's `browser/pyldavis` folder.\n",
    "\n",
    "If you are using this notebook on your local computer, you can set the `save` and `new_window` options to open the visualisation automatically or to save the visualisation file to the folder you specify in the configuration section above."
   ]
  },
  {
   "cell_type": "code",
   "execution_count": null,
   "metadata": {},
   "outputs": [],
   "source": [
    "import pyLDAvis\n",
    "\n",
    "data = {'topic_term_dists': phi, \n",
    "        'doc_topic_dists': theta,\n",
    "        'doc_lengths': list(docs['doc_length']),\n",
    "        'vocab': list(vocab['type']),\n",
    "        'term_frequency': list(vocab['term_freq'])\n",
    "       }\n",
    "\n",
    "display(HTML('<h3 style=\"color: red;\">The warning below is expected. The link to your visualisation will appear below the warning.</h3>'))\n",
    "\n",
    "vis_data = pyLDAvis.prepare(**data)\n",
    "\n",
    "# Save the visualisation HTML\n",
    "if save == True and new_window == False:\n",
    "    pwd = %pwd\n",
    "    project_reldir = pwd.split('/projects')[-1]\n",
    "    pyLDAvis.save_html(vis_data, os.path.join(output_dir, output_file))\n",
    "    browser_link_html = HTML('<hr><h2><a href=\"http://mirrormask.english.ucsb.edu:10001' + project_reldir + '/browser/pyldavis/pyLDAvis.html\" target=\"_blank\">View pyLDAvis</a></h2><hr>')\n",
    "    display(browser_link_html)\n",
    "\n",
    "# Open the notebook (local use only)\n",
    "if save == False and new_window == False:\n",
    "    pyLDAvis.display(vis_data)\n",
    "    \n",
    "# Open the Visualisation in a new window (local use only)\n",
    "if new_window == True:\n",
    "    pyLDAvis.show(vis_data, port=8889)"
   ]
  },
  {
   "cell_type": "code",
   "execution_count": null,
   "metadata": {},
   "outputs": [],
   "source": []
  }
 ],
 "metadata": {
  "kernelspec": {
   "display_name": "Python 3",
   "language": "python",
   "name": "python3"
  },
  "language_info": {
   "codemirror_mode": {
    "name": "ipython",
    "version": 3
   },
   "file_extension": ".py",
   "mimetype": "text/x-python",
   "name": "python",
   "nbconvert_exporter": "python",
   "pygments_lexer": "ipython3",
   "version": "3.5.1"
  }
 },
 "nbformat": 4,
 "nbformat_minor": 1
}

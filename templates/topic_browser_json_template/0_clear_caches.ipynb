{
 "cells": [
  {
   "cell_type": "markdown",
   "metadata": {},
   "source": [
    "# Clear Caches\n",
    "\n",
    "Delete all intermediate files, resetting project to clean state.\n",
    "\n",
    "-  v0.1 2017-10-31 clear working directories\n",
    "-  v0.2 2017-10-31 clear centralized caches and misc\n",
    "-  v0.3 2017-11-01 also strip output from notebook files\n",
    "-  v0.4 2017-11-02 no self-strip (requires overly complex runtime handling)"
   ]
  },
  {
   "cell_type": "code",
   "execution_count": null,
   "metadata": {
    "collapsed": true
   },
   "outputs": [],
   "source": [
    "## INFO\n",
    "\n",
    "__author__    = 'Jeremy Douglass'\n",
    "__copyright__ = 'copyright 2017, The WE1S Project'\n",
    "__license__   = 'GPL'\n",
    "__version__   = '0.1'\n",
    "__email__     = 'jeremydouglass@gmail.com'\n"
   ]
  },
  {
   "cell_type": "code",
   "execution_count": null,
   "metadata": {
    "collapsed": true
   },
   "outputs": [],
   "source": [
    "## VARIABLES\n",
    "\n",
    "from settings import caches\n",
    "thisnb = \"0_clear_caches.ipynb\""
   ]
  },
  {
   "cell_type": "code",
   "execution_count": null,
   "metadata": {
    "collapsed": true
   },
   "outputs": [],
   "source": [
    "## CLEAR CACHES\n",
    "\n",
    "!rm -fr {caches}\n",
    "!mkdir -p {caches}\n"
   ]
  },
  {
   "cell_type": "code",
   "execution_count": null,
   "metadata": {
    "collapsed": true
   },
   "outputs": [],
   "source": [
    "## CLEAR MISC\n",
    "\n",
    "!rm -f  scripts/deduplicate/corpus_compare.csv\n",
    "!rm -f  scripts/deduplicate/corpus_compare.log\n",
    "!rm -f  corpus_compare.log\n",
    "\n",
    "!rm -fr browser\n",
    "!rm -f  browser.zip\n"
   ]
  },
  {
   "cell_type": "code",
   "execution_count": null,
   "metadata": {
    "collapsed": true
   },
   "outputs": [],
   "source": [
    "## CHECK\n",
    "# !ls -R1 caches"
   ]
  },
  {
   "cell_type": "code",
   "execution_count": null,
   "metadata": {
    "collapsed": true
   },
   "outputs": [],
   "source": [
    "## STRIP OUTPUT FROM NOTEBOOK CELLS\n",
    "\n",
    "## requires nbstripout:\n",
    "##   pip install nbstripout; nbstripout install\n",
    "\n",
    "## instead of\n",
    "##   !nbstripout *.ipynb\n",
    "## strip output from every notebook except this running one.\n",
    "\n",
    "!find . -maxdepth 3 -type f ! -name \"0_clear_caches.ipynb\" -name \"*.ipynb\" -exec nbstripout {} +\n",
    "\n",
    "## could follow with\n",
    "##   !nbstripout 0_clear_caches.ipynb\n",
    "## although easier to just write protect the notebook.\n"
   ]
  },
  {
   "cell_type": "markdown",
   "metadata": {},
   "source": [
    "----------"
   ]
  }
 ],
 "metadata": {
  "kernelspec": {
   "display_name": "Python 3",
   "language": "python",
   "name": "python3"
  },
  "language_info": {
   "codemirror_mode": {
    "name": "ipython",
    "version": 3
   },
   "file_extension": ".py",
   "mimetype": "text/x-python",
   "name": "python",
   "nbconvert_exporter": "python",
   "pygments_lexer": "ipython3",
   "version": "3.5.1"
  }
 },
 "nbformat": 4,
 "nbformat_minor": 0
}

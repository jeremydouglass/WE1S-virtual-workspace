{
 "cells": [
  {
   "cell_type": "markdown",
   "metadata": {},
   "source": [
    "# New Topic Browser Project\n",
    "\n",
    "Create a new Jupyter project for dfr browser generation.\n",
    "\n",
    "_This notebook is read-only. It may be customized and run, but settings will only be saved in the newly generated projects._"
   ]
  },
  {
   "cell_type": "code",
   "execution_count": null,
   "metadata": {
    "collapsed": false
   },
   "outputs": [],
   "source": [
    "## IMPORT\n",
    "# from distutils.dir_util import copy_tree\n",
    "from shutil import copytree, ignore_patterns\n",
    "import os\n",
    "import datetime\n",
    "import ipywidgets as widgets\n",
    "from IPython.display import display, clear_output"
   ]
  },
  {
   "cell_type": "markdown",
   "metadata": {},
   "source": [
    "## SELECT TEMPLATE"
   ]
  },
  {
   "cell_type": "code",
   "execution_count": null,
   "metadata": {
    "collapsed": true
   },
   "outputs": [],
   "source": [
    "template_directory  = 'templates/topic_browser_json_template'"
   ]
  },
  {
   "cell_type": "markdown",
   "metadata": {},
   "source": [
    "## NAME PROJECT"
   ]
  },
  {
   "cell_type": "code",
   "execution_count": null,
   "metadata": {
    "collapsed": false
   },
   "outputs": [],
   "source": [
    "project_name = 'untitled'"
   ]
  },
  {
   "cell_type": "code",
   "execution_count": null,
   "metadata": {
    "collapsed": true
   },
   "outputs": [],
   "source": [
    "## WHEN CREATED BELOW PROJECT NAME INCLUDES A UNIQUE\n",
    "## TIME-DATE STAMP:\n",
    "\n",
    "project_full_name = datetime.datetime.today().strftime('%Y%m%d_%H%M_') + project_name\n",
    "print(project_name)"
   ]
  },
  {
   "cell_type": "markdown",
   "metadata": {},
   "source": [
    "## CREATE DROPDOWN, THEN SELECT FOLDER"
   ]
  },
  {
   "cell_type": "code",
   "execution_count": null,
   "metadata": {
    "collapsed": false
   },
   "outputs": [],
   "source": [
    "## RUN THIS, THEN SELECT YOUR OUTPUT DIRECTORY\n",
    "\n",
    "project_directory = ''\n",
    "project_directory_and_name = ''\n",
    "\n",
    "vardict = ['projects',\n",
    "           'projects/teams',\n",
    "           'projects/teams/am-1-us-canada',\n",
    "           'projects/teams/am-10-broadcast-internet-alt',\n",
    "           'projects/teams/am-2-uk',\n",
    "           'projects/teams/am-3-asia',\n",
    "           'projects/teams/am-5-mexico-central-south-america',\n",
    "           'projects/teams/am-6-europe',\n",
    "           'projects/teams/am-7-middle-east-africa',\n",
    "           'projects/teams/am-8-diverse-populations']\n",
    "select_variable = widgets.Dropdown(\n",
    "    options=vardict,\n",
    "    value=vardict[0],\n",
    "    description='Select variable:',\n",
    "    disabled=False,\n",
    "    button_style=''\n",
    ")\n",
    "def preview(b):\n",
    "    global project_directory\n",
    "    global project_directory_and_name\n",
    "    project_directory = select_variable.value\n",
    "    project_directory_and_name = project_directory + '/' + project_full_name\n",
    "    clear_output()\n",
    "    print(project_directory)\n",
    "    print(project_directory_and_name)\n",
    "    return project_directory_and_name\n",
    "\n",
    "select_variable.observe(preview, names='value')\n",
    "display(select_variable)\n",
    "\n",
    "project_directory_and_name = project_directory + '/' + project_full_name"
   ]
  },
  {
   "cell_type": "markdown",
   "metadata": {},
   "source": [
    "## CREATE PROJECT"
   ]
  },
  {
   "cell_type": "code",
   "execution_count": null,
   "metadata": {
    "collapsed": true
   },
   "outputs": [],
   "source": [
    "## New project folder with default template contents\n",
    "## -- includes empty folders, stopwords, scripts.\n",
    "## Clean copy -- ignore any checkpoints or pycache.\n",
    "copytree(template_directory, project_directory_and_name, ignore=ignore_patterns('.ipynb_checkpoints', '__pycache__'))\n",
    "!ls -la {project_directory_and_name}\n"
   ]
  },
  {
   "cell_type": "markdown",
   "metadata": {},
   "source": [
    "## GO TO YOUR PROJECT"
   ]
  },
  {
   "cell_type": "code",
   "execution_count": null,
   "metadata": {
    "collapsed": false
   },
   "outputs": [],
   "source": [
    "from IPython.display import display, HTML\n",
    "browser_link_html = HTML('<p>A new <strong>'+ template_directory +'</strong> has been set up:<br><strong>'+ project_directory_and_name + '</strong></p><h2><a href=\"' + project_directory_and_name + '/1_import_data.ipynb\" target=\"top\">Next: Import Data.</h2>')\n",
    "display(browser_link_html)"
   ]
  }
 ],
 "metadata": {
  "kernelspec": {
   "display_name": "Python 3",
   "language": "python",
   "name": "python3"
  },
  "language_info": {
   "codemirror_mode": {
    "name": "ipython",
    "version": 3
   },
   "file_extension": ".py",
   "mimetype": "text/x-python",
   "name": "python",
   "nbconvert_exporter": "python",
   "pygments_lexer": "ipython3",
   "version": "3.5.1"
  }
 },
 "nbformat": 4,
 "nbformat_minor": 0
}

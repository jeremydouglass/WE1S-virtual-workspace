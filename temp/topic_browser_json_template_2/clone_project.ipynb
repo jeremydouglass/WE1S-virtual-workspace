{
 "cells": [
  {
   "cell_type": "markdown",
   "metadata": {},
   "source": [
    "# Clone Topic Browser Project\n",
    "Create a duplicate of a Jupyter project for dfr browser generation."
   ]
  },
  {
   "cell_type": "code",
   "execution_count": null,
   "metadata": {},
   "outputs": [],
   "source": [
    "## IMPORT\n",
    "# from distutils.dir_util import copy_tree\n",
    "from shutil import copytree, ignore_patterns\n",
    "import os\n",
    "import datetime\n",
    "import ipywidgets as widgets\n",
    "from IPython.display import display, clear_output\n",
    "\n",
    "## SETTINGS\n",
    "## original project directory\n",
    "original_project_dir = %pwd\n",
    "print(original_project_dir)"
   ]
  },
  {
   "cell_type": "markdown",
   "metadata": {},
   "source": [
    "## NAME OF PROJECT CLONE"
   ]
  },
  {
   "cell_type": "code",
   "execution_count": null,
   "metadata": {},
   "outputs": [],
   "source": [
    "project_name = 'project_name_clone'"
   ]
  },
  {
   "cell_type": "code",
   "execution_count": null,
   "metadata": {},
   "outputs": [],
   "source": [
    "## WHEN CREATED BELOW PROJECT NAME INCLUDES A NEW UNIQUE\n",
    "## TIME-DATE STAMP:\n",
    "\n",
    "project_full_name = datetime.datetime.today().strftime('%Y%m%d_%H%M_') + project_name\n",
    "print(project_name)"
   ]
  },
  {
   "cell_type": "markdown",
   "metadata": {},
   "source": [
    "## CHOOSE WHERE PROJECT IS STORED\n",
    "\n",
    "This will be the parent folder of your project. Copy and paste your folder string from the list of examples below into the project_directory variable -- or edit and create your own."
   ]
  },
  {
   "cell_type": "markdown",
   "metadata": {},
   "source": [
    "> 'projects'  \n",
    "> 'projects/teams'  \n",
    "> 'projects/teams/2018-19-1-primary-corpus'  \n",
    "> 'projects/teams/2018-19-2-students-humanities'  \n",
    "> 'projects/teams/2018-19-3-gender-ethnic-racial-diversity'  \n",
    "> 'projects/teams/2018-19-4-interpretation-lab'"
   ]
  },
  {
   "cell_type": "code",
   "execution_count": null,
   "metadata": {},
   "outputs": [],
   "source": [
    "project_directory = 'projects'"
   ]
  },
  {
   "cell_type": "markdown",
   "metadata": {},
   "source": [
    "## CREATE PROJECT"
   ]
  },
  {
   "cell_type": "code",
   "execution_count": null,
   "metadata": {},
   "outputs": [],
   "source": [
    "## New project folder with default template contents\n",
    "## -- includes empty folders, stopwords, scripts.\n",
    "## Clean copy -- ignore any checkpoints or pycache.\n",
    "project_directory_and_name = project_directory + '/' + project_full_name\n",
    "new_project_dir = os.path.join('/home/jovyan/write', project_directory_and_name)\n",
    "# print(new_project_dir)\n",
    "copytree(original_project_dir, new_project_dir, ignore=ignore_patterns('.ipynb_checkpoints', '__pycache__'))\n",
    "!ls -la {project_directory_and_name}"
   ]
  },
  {
   "cell_type": "markdown",
   "metadata": {},
   "source": [
    "## GO TO YOUR NEW PROJECT"
   ]
  },
  {
   "cell_type": "code",
   "execution_count": null,
   "metadata": {},
   "outputs": [],
   "source": [
    "from IPython.display import display, HTML\n",
    "browser_link_html = HTML('<p>A new <strong>'+ project_name +'</strong> project has been set up:<br><strong>'+ project_directory_and_name + '</strong></p><h2><a href=\"' + project_directory_and_name + '\" target=\"top\">Next: Go to your cloned project.</h2>')\n",
    "display(browser_link_html)"
   ]
  }
 ],
 "metadata": {
  "kernelspec": {
   "display_name": "Python 3",
   "language": "python",
   "name": "python3"
  },
  "language_info": {
   "codemirror_mode": {
    "name": "ipython",
    "version": 3
   },
   "file_extension": ".py",
   "mimetype": "text/x-python",
   "name": "python",
   "nbconvert_exporter": "python",
   "pygments_lexer": "ipython3",
   "version": "3.6.6"
  }
 },
 "nbformat": 4,
 "nbformat_minor": 2
}

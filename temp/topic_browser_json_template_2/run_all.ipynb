{
 "cells": [
  {
   "cell_type": "markdown",
   "metadata": {},
   "source": [
    "# Run All\n",
    "\n",
    "A shortcut multi-notebook script for running and re-running the entire project workflow.\n",
    "\n",
    "-  v1 2016-10-19 first version - Jeremy Douglass\n",
    "-  v2 2016-10-24 fixed manual link to 4_make_topic_browser.ipynb\n",
    "-  v3 2017-10-30 switch to Python3 (no change)\n",
    "-  v4 2017-10-31 add cache clearing on re-run\n",
    "-  v5 2017-11-01 add R notebook execution\n",
    "-  v6 2017-11-01 streamline R notebook execution\n",
    "-  v7 2017-11-02 need to generate a dynamic browser launch string"
   ]
  },
  {
   "cell_type": "code",
   "execution_count": null,
   "metadata": {
    "collapsed": true
   },
   "outputs": [],
   "source": [
    "%pwd"
   ]
  },
  {
   "cell_type": "code",
   "execution_count": null,
   "metadata": {
    "collapsed": true
   },
   "outputs": [],
   "source": [
    "%run '0_clear_caches.ipynb'"
   ]
  },
  {
   "cell_type": "code",
   "execution_count": null,
   "metadata": {
    "collapsed": true
   },
   "outputs": [],
   "source": [
    "%run '1_import_data.ipynb'"
   ]
  },
  {
   "cell_type": "code",
   "execution_count": null,
   "metadata": {
    "collapsed": true
   },
   "outputs": [],
   "source": [
    "!jupyter nbconvert --to notebook --execute 4_make_topic_browser.ipynb"
   ]
  },
  {
   "cell_type": "markdown",
   "metadata": {},
   "source": [
    "http://mirrormask.english.ucsb.edu:10001/{project_name}/browser/"
   ]
  },
  {
   "cell_type": "markdown",
   "metadata": {},
   "source": [
    "-------------"
   ]
  }
 ],
 "metadata": {
  "kernelspec": {
   "display_name": "Python 3",
   "language": "python",
   "name": "python3"
  },
  "language_info": {
   "codemirror_mode": {
    "name": "ipython",
    "version": 3
   },
   "file_extension": ".py",
   "mimetype": "text/x-python",
   "name": "python",
   "nbconvert_exporter": "python",
   "pygments_lexer": "ipython3",
   "version": "3.5.1"
  }
 },
 "nbformat": 4,
 "nbformat_minor": 0
}

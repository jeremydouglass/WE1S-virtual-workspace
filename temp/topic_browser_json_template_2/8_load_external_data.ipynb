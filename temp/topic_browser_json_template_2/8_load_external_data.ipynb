{
 "cells": [
  {
   "cell_type": "markdown",
   "metadata": {},
   "source": [
    "# LOAD PLAIN TEXT DATA"
   ]
  },
  {
   "cell_type": "markdown",
   "metadata": {},
   "source": [
    "This notebook enables you to upload a zip archive containing plain text files as data. The files are converted into valid JSON manifests, allowing the rest of the Virtual Workspace to work with them.\n",
    "\n",
    "Run the **Python Imports**, **Configuration**, and **Basic Setup** cells _before_ uploading your data and metadata files.\n",
    "\n",
    "Note that you are required to provide metadata in either json or csv format. For formatting requirements, please see the **Configuration** and **Basic Setup** sections below."
   ]
  },
  {
   "cell_type": "markdown",
   "metadata": {},
   "source": [
    "## SETTINGS"
   ]
  },
  {
   "cell_type": "code",
   "execution_count": null,
   "metadata": {},
   "outputs": [],
   "source": [
    "import csv\n",
    "import json\n",
    "import os\n",
    "import re\n",
    "from IPython.display import display, HTML\n",
    "\n",
    "sourcepath = 'caches/external_sources'\n",
    "textfilepath = 'caches/txt'"
   ]
  },
  {
   "cell_type": "markdown",
   "metadata": {},
   "source": [
    "## CONFIGURATION"
   ]
  },
  {
   "cell_type": "code",
   "execution_count": 1,
   "metadata": {},
   "outputs": [],
   "source": [
    "zipfile = 'myzip.zip' # The name of the zip archive containing your plain text documents\n",
    "metadata_format = 'json' # 'csv' or 'json'\n",
    "\n",
    "# Add Custom Metadata Fields\n",
    "custom_metadata_fields = [] # e.g. ['word_count', 'sentiment']"
   ]
  },
  {
   "cell_type": "markdown",
   "metadata": {},
   "source": [
    "## BASIC SETUP\n",
    "\n",
    "This cell creates the required directories into which you will upload your data and metadata files. Please run this cell and then follow the instructions for uploading."
   ]
  },
  {
   "cell_type": "code",
   "execution_count": null,
   "metadata": {},
   "outputs": [],
   "source": [
    "!rm -r caches/external_sources\n",
    "!mkdir -p caches/external_sources\n",
    "!rm -r caches/txt\n",
    "!mkdir -p caches/txt\n",
    "msg = '''\n",
    "<h3>You are now ready to upload your material.</h3>\n",
    "<p>Note that you are required to provide metadata with a date of publication that must be in 'YYYY-MM-DD' format.</p>\n",
    "<h3>Using json metadata</h3>\n",
    "<p>Navigate to your <code>caches/external_sources</code> folder and click the \"Upload\" button to upload a zipped archive of documents in plain text format. If your metadata format is `json`, you must also upload a JSON file called <code>metadata.json</code> with the following format:)\n",
    "<pre><code>\n",
    "[\n",
    "  {\n",
    "    \"filename': \"emma.txt\",\n",
    "    \"pub_date\": \"1815-01-01\",\n",
    "    \"title\": \"Emma\",\n",
    "    \"author\": \"Jane Austen\"\n",
    "  },\n",
    "  {\n",
    "    \"filename\": \"jane_eyre.txt\",\n",
    "    \"pub_date\": \"1847-01-01\",\n",
    "    \"title\": \"Jane Eyre\",\n",
    "    \"author\": \"Charlotte Brontë\"\n",
    "  }  \n",
    "]\n",
    "</code></pre>\n",
    "<p>You can also paste a copy of the JSON metadata in the <code>metadata</code> variable in the <strong>Add Metadata</strong> section below, but make sure that `metadata_format` is set to 'json' in your configuration above. When you are finished, continue running the cells below the <strong>Add Metadata</strong> section.</p>\n",
    "<h3>Using csv metadata</h3>\n",
    "<p>Alternatively, if your metadata is in csv format, you can upload a csv file with the following header:\n",
    "<code>filename,pub_date,title,author</code>.</p>\n",
    "<p>Make sure your date of publication is in `YYYY-MM-DD` format, and that your filenames have a `.txt` extension. Set <code>metadata_format</code> to 'csv' in the configuration cell above.</p>\n",
    "'''\n",
    "output = HTML(msg)\n",
    "\n",
    "display(output)"
   ]
  },
  {
   "cell_type": "markdown",
   "metadata": {},
   "source": [
    "## METADATA: Add Metadata"
   ]
  },
  {
   "cell_type": "markdown",
   "metadata": {},
   "source": [
    "Leave the following list blank if you are uploading your own JSON or CSV files, but please run the cell. It sets an empty list for the metadata file to populate. We will then write this list to a series of json files."
   ]
  },
  {
   "cell_type": "code",
   "execution_count": null,
   "metadata": {},
   "outputs": [],
   "source": [
    "metadata = []"
   ]
  },
  {
   "cell_type": "markdown",
   "metadata": {},
   "source": [
    "## PREPARE DATA: Prepare data and metadata for import"
   ]
  },
  {
   "cell_type": "code",
   "execution_count": null,
   "metadata": {},
   "outputs": [],
   "source": [
    "%%time \n",
    "\n",
    "# Load the metadata from file\n",
    "if metadata == [] and metadata_format == 'json':\n",
    "    with open(os.path.join(sourcepath, 'metadata.json'), 'r') as f:\n",
    "        metadata = json.loads(f.read())\n",
    "if metadata == [] and metadata_format == 'csv':\n",
    "    metadata = [dict(d) for d in csv.DictReader(open(os.path.join(sourcepath, 'metadata.csv')))]\n",
    "\n",
    "# Now unzip the archive\n",
    "datapath = os.path.join(sourcepath, zipfile)\n",
    "!unzip -j -o -u \"{datapath}\" -d caches/txt\n",
    "\n",
    "!ls caches/txt | wc -l\n",
    "    \n",
    "print('\\n\\n----------Time----------')"
   ]
  },
  {
   "cell_type": "markdown",
   "metadata": {},
   "source": [
    "## CREATE JSON: Create the JSON data files"
   ]
  },
  {
   "cell_type": "code",
   "execution_count": null,
   "metadata": {},
   "outputs": [],
   "source": [
    "%%time \n",
    "\n",
    "!rm -r caches/json\n",
    "!mkdir -p caches/json\n",
    "    \n",
    "for i, meta in enumerate(metadata):\n",
    "    # Build the basic manifest\n",
    "    doc_id = str(i)\n",
    "    name = meta['filename'].lower().replace('.txt', '')\n",
    "    name = re.sub('[\\W_-]+', '_', name)\n",
    "    date = meta['pub_date'] + 'T00:00:00Z'\n",
    "    author = meta['author']\n",
    "    if 'pub' in meta:\n",
    "        pub = meta['pub']\n",
    "    else:\n",
    "        pub = 'Unknown'\n",
    "    doc = {\n",
    "        'doc_id': doc_id,\n",
    "        'name': name,\n",
    "        'namespace': 'we1sv2.0',\n",
    "        'metapath': '',\n",
    "        'pub': pub,\n",
    "        'title': meta['title'],\n",
    "        'pub_date': date,\n",
    "        'author': author\n",
    "    }\n",
    "    # Add any custom_metadata_fields\n",
    "    for item in custom_metadata_fields:\n",
    "        doc[item] = meta[item]\n",
    "    # Read the source file and copy the content to the manifest\n",
    "    with open(os.path.join(textfilepath, meta['filename']), 'r') as f:\n",
    "        doc['content'] = f.read()\n",
    "        doc['length'] = str(len(doc['content']))\n",
    "    # Save the document\n",
    "    with open(os.path.join('caches/json', name + '.json'), 'w') as f:\n",
    "        f.write(json.dumps(doc))\n",
    "\n",
    "print('\\n\\n----------Time----------')\n",
    "            \n",
    "msg = '''\n",
    "<h3>Your data has been imported.</h3>\n",
    "\n",
    "<p>You should now run the <code>1_import_data</code> notebook to continue your project.</p>\n",
    "\n",
    "<p>Do not run the cells in the following sections.</p>\n",
    "\n",
    "<ul>\n",
    "<li>BROWSE: search zip filenames for keywords</li>\n",
    "<li>LIST: define which zips will be used to import JSON files</li>\n",
    "<li>IMPORT: copy JSON from zip files to cache</li>\n",
    "</ul>\n",
    "\n",
    "<p>After these sections, run the cells starting with <strong>FILTER: delete non-matching JSON</strong>.</p>\n",
    "'''\n",
    "output = HTML(msg)\n",
    "\n",
    "display(output)"
   ]
  },
  {
   "cell_type": "code",
   "execution_count": null,
   "metadata": {},
   "outputs": [],
   "source": []
  }
 ],
 "metadata": {
  "kernelspec": {
   "display_name": "Python 3",
   "language": "python",
   "name": "python3"
  },
  "language_info": {
   "codemirror_mode": {
    "name": "ipython",
    "version": 3
   },
   "file_extension": ".py",
   "mimetype": "text/x-python",
   "name": "python",
   "nbconvert_exporter": "python",
   "pygments_lexer": "ipython3",
   "version": "3.6.6"
  }
 },
 "nbformat": 4,
 "nbformat_minor": 2
}

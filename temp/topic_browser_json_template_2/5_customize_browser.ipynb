{
 "cells": [
  {
   "cell_type": "markdown",
   "metadata": {},
   "source": [
    "## Info"
   ]
  },
  {
   "cell_type": "code",
   "execution_count": null,
   "metadata": {
    "collapsed": true
   },
   "outputs": [],
   "source": [
    "## INFO\n",
    "\n",
    "__author__    = 'Scott Kleinman'\n",
    "__copyright__ = 'copyright 2019, The WE1S Project'\n",
    "__license__   = 'MIT'\n",
    "__version__   = '0.9'\n",
    "__email__     = 'scottkleinman@gmail.com'"
   ]
  },
  {
   "cell_type": "markdown",
   "metadata": {},
   "source": [
    "## Settings"
   ]
  },
  {
   "cell_type": "code",
   "execution_count": null,
   "metadata": {},
   "outputs": [],
   "source": [
    "## SETTINGS\n",
    "\n",
    "import datetime\n",
    "import json\n",
    "import os\n",
    "import re\n",
    "\n",
    "try:\n",
    "    ## project name, metapath, namespace, and created\n",
    "    project_dir = %pwd\n",
    "    name = os.path.basename(os.path.normpath(project_dir))\n",
    "    metapath = 'Projects'\n",
    "    namespace = 'we1sv2.0'\n",
    "    created = datetime.datetime.today().strftime('%Y-%m-%d')\n",
    "\n",
    "    ## import global project settings from config.py\n",
    "    from settings import *\n",
    "    \n",
    "    # Path to the info.json file -- configured because it is not in settings.py\n",
    "    info_file = 'browser/data/info.json'\n",
    "\n",
    "    # Path to the dfb.min.js file -- configured here only because settings.py\n",
    "    # has 'browser/js/dfb.min.js.custom'\n",
    "    dfb_script = 'browser/js/dfb.min.js'\n",
    "\n",
    "    \n",
    "    print('Settings imported successfully.')\n",
    "except:\n",
    "    print('Error: Could not import settings.')"
   ]
  },
  {
   "cell_type": "markdown",
   "metadata": {},
   "source": [
    "## Configuration"
   ]
  },
  {
   "cell_type": "code",
   "execution_count": null,
   "metadata": {
    "collapsed": true
   },
   "outputs": [],
   "source": [
    "## Change the set_ variable to True for any option you wish to configure.\n",
    "\n",
    "# A title for the browser. More than 30 characters may not display well.\n",
    "set_title       = False\n",
    "title           = 'The Guardian (no humanity)'\n",
    "\n",
    "# Provide information about each contributor as shown below. Only the 'title' property is \n",
    "# required. If there is one contributor, the second set of properties between {} can be\n",
    "# deleted. Further sets of properties can be added if there are more contributors.\n",
    "set_contributors = False\n",
    "contributors     = [\n",
    "    {\n",
    "        'title': 'Name of first contributor',\n",
    "        'email': 'Email of first contributor'\n",
    "    },\n",
    "    {\n",
    "        'title': 'Name of second contributor',\n",
    "        'email': 'Email of second contributor'\n",
    "    }    \n",
    "]\n",
    "\n",
    "# A description of the topic model. Must be formatted in HTML between the sets of three\n",
    "# quotation marks.\n",
    "set_meta_info    = False\n",
    "meta_info        = '''<h2>About this Model</h2>'''\n",
    "\n",
    "# A list of custom metadata fields to be displayed in dfr-browser document citations.\n",
    "set_custom_metadata_fields = False\n",
    "custom_metadata_fields     = []\n",
    "\n",
    "# The number of words to display in topic bubbles. Font sizes 5px to 11px will fit 8 words.\n",
    "set_num_top_words = False\n",
    "num_top_words     = 5\n",
    "\n",
    "set_size_range    = False\n",
    "size_range        = [6, 14]\n",
    "\n",
    "# The font size for topic labels shown when you mouse over a topic bubble. The default is 18.\n",
    "set_name_size    = False\n",
    "name_size        = 14\n",
    "\n",
    "# Replace the labels below with your own in the format shown. If you omit a label, it will be\n",
    "# given a topic number. In other words, you don't have to label every topic.\n",
    "# Note: Some labels may not fit in the topic bubbles. Labels look best if they contain short\n",
    "# words separated by spaces. \"Planes, Trains, and Automobiles\" is an example of a label that\n",
    "# will fit within the available space.\n",
    "set_topic_labels   = False\n",
    "topic_labels       = {\n",
    "  '1': 'ACCOUNTS AND OPINIONS',\n",
    "  '2': 'ADVICE AND COUNSEL',\n",
    "  '3': 'AFFECTION',\n",
    "  '4': 'AFFECTIONS PASSIONS FEELINGS OF ATTACHMENT',\n",
    "  '5': 'AFFECTION AND HAPPINESS'\n",
    "}"
   ]
  },
  {
   "cell_type": "markdown",
   "metadata": {},
   "source": [
    "## Run"
   ]
  },
  {
   "cell_type": "code",
   "execution_count": null,
   "metadata": {
    "collapsed": true
   },
   "outputs": [],
   "source": [
    "# Read the default info.json file\n",
    "try:\n",
    "    with open(info_file, 'r') as f:\n",
    "        info = json.loads(f.read())\n",
    "except:\n",
    "    print('Could not open the info.json file. Please make sure that the file exists and that the path configuration is correct.')\n",
    "\n",
    "# Ensure that topic labels have prefixed numbers\n",
    "for key, value in topic_labels.items():\n",
    "    topic_labels[key] = key + ': ' + re.sub('[0-9]+:\\s+', '', value)\n",
    "\n",
    "# Convert Markdown to HTML\n",
    "\n",
    "\n",
    "# Add custom properties\n",
    "try:\n",
    "    info = {}\n",
    "    info['VIS'] = {\n",
    "        'condition': {\n",
    "            'spec': {\n",
    "                'field': 'date',\n",
    "                'n': 1,\n",
    "                'unit': 'year'\n",
    "            },\n",
    "            'type': 'time'\n",
    "        }\n",
    "    }\n",
    "    if set_title == True:\n",
    "        info['title'] = title\n",
    "    if set_contributors == True:\n",
    "        info['contributors'] = contributors\n",
    "    if set_meta_info == True:\n",
    "        info['meta_info'] = meta_info\n",
    "    if set_custom_metadata_fields == True:\n",
    "        info['VIS']['metadata'] = {'spec': {'extra_fields': custom_metadata_fields}}\n",
    "    if set_num_top_words == True:\n",
    "        try:\n",
    "            x = info['VIS']['model_view']['plot']\n",
    "            x = {'words': num_top_words}\n",
    "        except KeyError:\n",
    "            info['VIS']['model_view'] = {'plot': {'words': num_top_words}}\n",
    "    if set_size_range == True:\n",
    "        try:\n",
    "            x = info['VIS']['model_view']['plot']\n",
    "            x = {'size_range': size_range}\n",
    "        except KeyError:\n",
    "            info['VIS']['model_view'] = {'plot': {'size_range': size_range}}\n",
    "    if set_name_size == True:\n",
    "        try:\n",
    "            x = info['VIS']['model_view']['plot']\n",
    "            x = {'name_size': name_size}\n",
    "        except KeyError:\n",
    "            info['VIS']['model_view'] = {'plot': {'name_size': name_size}}\n",
    "    if set_topic_labels == True:\n",
    "        info['topic_labels'] = topic_labels\n",
    "except:\n",
    "    print('Could not modify the data. Please check that the formatting of your configuration values is correct.')\n",
    "\n",
    "try:\n",
    "    info['description'] = meta_info\n",
    "    info['name'] = name\n",
    "    info['metapath'] = metapath\n",
    "    info['created'] = 'created'\n",
    "    info['contributors'] = contributors\n",
    "except:\n",
    "    print('Could not modify the data. Please check that you have run both the Settings and Configuration cells without errors.')\n",
    "\n",
    "# Save the modified info.json file\n",
    "try:\n",
    "    with open(info_file, 'w') as f:\n",
    "        f.write(json.dumps(info, indent=2, sort_keys=False))\n",
    "        print('Done! Reload your topic model browser to see the changes.')\n",
    "except:\n",
    "    print('Could not save the modifications to info.json. There may have been a formatting error or change to the file path.')"
   ]
  }
 ],
 "metadata": {
  "kernelspec": {
   "display_name": "Python 3",
   "language": "python",
   "name": "python3"
  },
  "language_info": {
   "codemirror_mode": {
    "name": "ipython",
    "version": 3
   },
   "file_extension": ".py",
   "mimetype": "text/x-python",
   "name": "python",
   "nbconvert_exporter": "python",
   "pygments_lexer": "ipython3",
   "version": "3.6.6"
  }
 },
 "nbformat": 4,
 "nbformat_minor": 1
}

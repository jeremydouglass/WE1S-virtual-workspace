{
 "cells": [
  {
   "cell_type": "markdown",
   "metadata": {},
   "source": [
    "## Visualise our Topic Model with pyLDAvis\n",
    "\n",
    "[pyLDAvis](https://github.com/bmabey/pyLDAvis) is a port of the R LDAvis package for interactive topic model visualization by Carson Sievert and Kenny Shirley.\n",
    "\n",
    "pyLDAvis is designed to help users interpret the topics in a topic model by examining the relevance and salience of terms in topics. Along the way, it displays tabular data which can be used to examine the model.\n",
    "\n",
    "pyLDAvis is not designed to use Mallet data out of the box. This notebook transforms the Mallet state file into the appropriate data formats before generating the visualisation. The code is based on Jeri Wieringa's blog post [Using pyLDAvis with Mallet](http://jeriwieringa.com/2018/07/17/pyLDAviz-and-Mallet/) and has been slightly altered and commented.\n",
    "\n",
    "\n",
    "### INFO\n",
    "\n",
    "__author__    = 'Scott Kleinman'  \n",
    "__copyright__ = 'copyright 2019, The WE1S Project'  \n",
    "__license__   = 'GPL'  \n",
    "__version__   = '1.2.1'  \n",
    "__email__     = 'scott.kleinman@csun.edu'"
   ]
  },
  {
   "cell_type": "markdown",
   "metadata": {},
   "source": [
    "## Imports"
   ]
  },
  {
   "cell_type": "code",
   "execution_count": null,
   "metadata": {},
   "outputs": [],
   "source": [
    "import gzip\n",
    "import os\n",
    "import pandas as pd\n",
    "from IPython.display import display, HTML"
   ]
  },
  {
   "cell_type": "markdown",
   "metadata": {},
   "source": [
    "## Configuration\n",
    "\n",
    "** IMPORTANT:** You can select `Cell > Run All` to generate the link to your visualisation automatically. If you wish to view individual data displays, you can set their values to `True` in the configuration, or you can enable individual cells below. "
   ]
  },
  {
   "cell_type": "code",
   "execution_count": null,
   "metadata": {},
   "outputs": [],
   "source": [
    "published_site_folder_name = os.path.basename(os.getcwd())\n",
    "# print('Project name:', published_site_folder_name)\n",
    "\n",
    "data_dir               = 'caches/model'\n",
    "topic_state_file       = 'topic-state.gz'\n",
    "pyldavis_script_path   = 'scripts/pyldavis/pyldavis.py'\n",
    "\n",
    "# Data Display Configuration\n",
    "display_hyperparameters = False\n",
    "display_topic_state_format = False\n",
    "display_document_lengths = False\n",
    "display_term_frequencies = False\n",
    "display_word_topic_assignments = False\n",
    "display_doc_topic_matrix = False\n",
    "sort_by = 'type' # You can change this to 'topic' or 'token_count'\n",
    "ascending = True # Change this to False to reverse sort\n",
    "phi_smoothing = False\n",
    "theta_smoothing = False"
   ]
  },
  {
   "cell_type": "markdown",
   "metadata": {},
   "source": [
    "## Generate pyLDAvis"
   ]
  },
  {
   "cell_type": "code",
   "execution_count": null,
   "metadata": {},
   "outputs": [],
   "source": [
    "# Run pyLDAvis and save viewer to the project pyldavis folder\n",
    "%run {pyldavis_script_path} \n",
    "\n",
    "# Set the publish_path on the server\n",
    "publish_path = '/home/jovyan/view/pyldavis/' + published_site_folder_name + '/'\n",
    "\n",
    "# Copy the pyldavis folder to the publish_path\n",
    "!mkdir {publish_path}\n",
    "!cp -rf pyldavis/index.html {publish_path}\n",
    "!ls -la {publish_path}\n",
    "\n",
    "# Generate the published link\n",
    "path_parts = publish_path.split('view')\n",
    "publish_url = 'http://harbor.english.ucsb.edu:10002' + path_parts[1]\n",
    "output = '<h2>Your pyLDAvis is now available to view at the link below:</h2>'\n",
    "output += '<h2><a href=\"' + publish_url + '\" target=\"_blank\">' + publish_url + '</a></h2>'\n",
    "output += \"<p>To download a copy, go to your project's <code>pyldavis</code> folder and download the <code>index.html</code> file.</p>\"\n",
    "browser_link_html = HTML(output)\n",
    "display(browser_link_html)"
   ]
  },
  {
   "cell_type": "markdown",
   "metadata": {},
   "source": [
    "# Data Display Functions\n",
    "\n",
    "The cells below provide tabular data generated in the course of building a pyLDAvis. They are only executed if you have set their display parameters to `True` in the configuration above. However, you can also uncomment the configurations in each cell to run the cell individually.\n",
    "\n",
    "Each cell (apart from the hyperparameters) displays the first 10 rows of a table, represented in brackets with `:10`. Change this to `10:20` to view the next ten rows, and so on.       "
   ]
  },
  {
   "cell_type": "markdown",
   "metadata": {},
   "source": [
    "## Display Hyperparameters"
   ]
  },
  {
   "cell_type": "code",
   "execution_count": null,
   "metadata": {},
   "outputs": [],
   "source": [
    "# display_hyperparameters = True # Uncomment this line if running this cell individually\n",
    "if display_hyperparameters == True:\n",
    "    print(\"Hyperparameters:\\n\")\n",
    "    print(\"{}, {}\".format(alpha, beta))"
   ]
  },
  {
   "cell_type": "markdown",
   "metadata": {},
   "source": [
    "## Display Topic-State Format\n",
    "\n",
    "Show the first 10 rows of the topic-state file. Modify `df[:10]` to change the number of rows displayed."
   ]
  },
  {
   "cell_type": "code",
   "execution_count": null,
   "metadata": {},
   "outputs": [],
   "source": [
    "df = state_to_df(os.path.join(data_dir, topic_state_file))\n",
    "df['type'] = df.type.astype(str)\n",
    "\n",
    "df[:10]"
   ]
  },
  {
   "cell_type": "markdown",
   "metadata": {},
   "source": [
    "## Display the Document Lengths from the State File\n",
    "\n",
    "Shows the first 10 documents. Modify `df[:10]` to change the number of rows displayed."
   ]
  },
  {
   "cell_type": "code",
   "execution_count": null,
   "metadata": {},
   "outputs": [],
   "source": [
    "# display_document_lengths = True # Uncomment this line if running this cell individually\n",
    "if display_document_lengths == True:\n",
    "    display(docs[:10])"
   ]
  },
  {
   "cell_type": "markdown",
   "metadata": {},
   "source": [
    "## Display the Vocabulary and Term Frequencies from the State File\n",
    "\n",
    "Shows the first 10 terms in alphabetical order. Modify `df[:10]` to change the number of rows displayed."
   ]
  },
  {
   "cell_type": "code",
   "execution_count": null,
   "metadata": {},
   "outputs": [],
   "source": [
    "# display_term_frequencies = True # Uncomment this line if running this cell individually\n",
    "if display_term_frequencies == True:\n",
    "    display(vocab[:10])"
   ]
  },
  {
   "cell_type": "markdown",
   "metadata": {},
   "source": [
    "## Display Word-Topic Assignments\n",
    "\n",
    "Aggregates by topic and word for `phi`, the topic-term matrix, counts the number of times each word was assigned to each topic, and then sorts the resulting dataframe alphabetically by word so that it matches the order of the vocabulary frame. The beta hyperparameter is used as the smoothing value. The first 10 words are shown. Modify `phi_df[:10]` to change the number of rows displayed."
   ]
  },
  {
   "cell_type": "code",
   "execution_count": null,
   "metadata": {},
   "outputs": [],
   "source": [
    "# Uncomment these lines if running this cell individually\n",
    "# display_word_topic_assignments = True\n",
    "# sort_by = 'type' # You can change this to 'topic' or 'token_count'\n",
    "# ascending = True # Change this to False to reverse sort\n",
    "# phi_df = phi_df.sort_values(by=sort_by, ascending=ascending)\n",
    "# phi_smoothing = False # Change to True to show smoothed values\n",
    "if display_word_topic_assignments == True:\n",
    "    display(phi_df[:10])\n",
    "if phi_smoothing == True:\n",
    "    print('=======================================')\n",
    "    display(phi[:10])"
   ]
  },
  {
   "cell_type": "markdown",
   "metadata": {},
   "source": [
    "## Display Document-Topic Matrix\n",
    "\n",
    "Repeat the process, but focused on the documents and topics, to generate the theta document-topic matrix. Uses the alpha hyperparameter as the smoothing value. The first 10 documents are shown. Modify `theta_df[:10]` to change the number of rows displayed."
   ]
  },
  {
   "cell_type": "code",
   "execution_count": null,
   "metadata": {},
   "outputs": [],
   "source": [
    "# display_doc_topic_matrix = True # Uncomment if running this cell individually\n",
    "# theta_smoothing = False\n",
    "if display_doc_topic_matrix == True:\n",
    "    display(theta_df[:10])\n",
    "if theta_smoothing == True:\n",
    "    print('=======================================')\n",
    "    display(theta[:10])"
   ]
  },
  {
   "cell_type": "code",
   "execution_count": null,
   "metadata": {},
   "outputs": [],
   "source": [
    "display(browser_link_html)"
   ]
  },
  {
   "cell_type": "markdown",
   "metadata": {},
   "source": [
    "If you wish to use any of the Data Display Functions, run the cells individually, starting [here](#Data-Display-Functions)."
   ]
  },
  {
   "cell_type": "code",
   "execution_count": null,
   "metadata": {},
   "outputs": [],
   "source": []
  }
 ],
 "metadata": {
  "kernelspec": {
   "display_name": "Python 3",
   "language": "python",
   "name": "python3"
  },
  "language_info": {
   "codemirror_mode": {
    "name": "ipython",
    "version": 3
   },
   "file_extension": ".py",
   "mimetype": "text/x-python",
   "name": "python",
   "nbconvert_exporter": "python",
   "pygments_lexer": "ipython3",
   "version": "3.6.6"
  }
 },
 "nbformat": 4,
 "nbformat_minor": 1
}

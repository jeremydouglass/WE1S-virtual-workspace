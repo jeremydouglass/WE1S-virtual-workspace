{
 "cells": [
  {
   "cell_type": "markdown",
   "metadata": {},
   "source": [
    "# metadata reorder"
   ]
  },
  {
   "cell_type": "markdown",
   "metadata": {},
   "source": [
    "_re-order metadata columns in csv_  \n",
    "2016-10-24 Jeremy Douglass / WE1S\n",
    "\n",
    "Solution notes:\n",
    "\n",
    "-  http://stackoverflow.com/questions/33001490/python-re-ordering-columns-in-a-csv\n",
    "-  http://stackoverflow.com/questions/16306819/python-edit-csv-headers"
   ]
  },
  {
   "cell_type": "markdown",
   "metadata": {},
   "source": [
    "## file names"
   ]
  },
  {
   "cell_type": "code",
   "execution_count": null,
   "metadata": {},
   "outputs": [],
   "source": [
    "import csv\n",
    "\n",
    "csv_in  = \"metadata/metadata.csv\"\n",
    "csv_out = \"metadata/metadata-dfrb.csv\""
   ]
  },
  {
   "cell_type": "markdown",
   "metadata": {},
   "source": [
    "## column names"
   ]
  },
  {
   "cell_type": "code",
   "execution_count": null,
   "metadata": {},
   "outputs": [],
   "source": [
    "## infieldnames provides new names for original column order\n",
    "## outfieldnames re-orders infieldnames for new column order\n",
    "\n",
    "infieldnames = 'id', 'journaltitle', 'pubdate', 'title', 'pagerange', 'author', 'volume', 'issue'\n",
    "outfieldnames = 'id', 'title', 'author', 'journaltitle', 'volume', 'issue', 'pubdate', 'pagerange'"
   ]
  },
  {
   "cell_type": "markdown",
   "metadata": {},
   "source": [
    "## copy metadata"
   ]
  },
  {
   "cell_type": "code",
   "execution_count": null,
   "metadata": {},
   "outputs": [],
   "source": [
    "## create reordered metadata file\n",
    "\n",
    "with open(csv_in, 'r') as infile, open(csv_out, 'a') as outfile:\n",
    "    ## input dict needs a list for column renaming\n",
    "    reader = csv.DictReader(infile, fieldnames=infieldnames)\n",
    "    ## skip outdated header row\n",
    "    next(reader, None)\n",
    "\n",
    "    ## output dict needs a reordered list for new column ordering\n",
    "    writer = csv.DictWriter(outfile, fieldnames=outfieldnames)\n",
    "    ## write automatic header\n",
    "    writer.writeheader()\n",
    "    \n",
    "    ## write each row to new file with remapped column order\n",
    "    for row in reader:\n",
    "        writer.writerow(row)"
   ]
  },
  {
   "cell_type": "markdown",
   "metadata": {},
   "source": [
    "---------------\n",
    "\n",
    "\n",
    "\n",
    "---------------\n",
    "\n",
    "## NOTES\n",
    "\n",
    "\tIN  = id, publication, pubdate, title, articlebody, author, docUrl, wordcount\n",
    "\n",
    "Specify new column names for load (ignore old names):\n",
    "\n",
    "> OLD NAME => NEW NAME\n",
    ">  \n",
    "> -  id => id  \n",
    "> -  publication => journaltitle  \n",
    "> -  pubdate => pubdate  \n",
    "> -  title => title  \n",
    "> -  articlebody => pagerange  \n",
    "> -  author => author  \n",
    "> -  docUrl => volume  \n",
    "> -  wordcount => issue  \n",
    "\n",
    "\tinfieldnames = 'id', 'journaltitle', 'pubdate', 'title', 'pagerange', 'author', 'volume', 'issue'\n",
    "\n",
    "Reorganizing column order for output. Same names in different order; keys will be auto-mapped by DictReader / DictWriter:\n",
    "\n",
    "> ORDER => REORDER\n",
    "> \n",
    "> -  1 => 1  \n",
    "> -  2 => 4  \n",
    "> -  3 => 7  \n",
    "> -  4 => 2  \n",
    "> -  5 => 8  \n",
    "> -  6 => 3  \n",
    "> -  7 => 5  \n",
    "> -  8 => 6  \n",
    "\n",
    "\toutfieldnames = 'id', 'title', 'author', 'journaltitle', 'volume', 'issue', 'pubdate', 'pagerange'\n",
    "\n",
    "### LINKS\n",
    "\n",
    "-  http://stackoverflow.com/questions/16306819/python-edit-csv-headers   \n",
    "-  http://stackoverflow.com/questions/17039539/replace-fieldnames-when-using-dictreader\n",
    "-  http://stackoverflow.com/questions/20347766/pythonically-add-header-to-a-csv-file\n",
    "-  http://stackoverflow.com/questions/2982023/writing-header-with-dictwriter-from-pythons-csv-module\n",
    "-  http://stackoverflow.com/questions/35063137/how-to-rename-key-header-in-csv-dictreader\n",
    "-  http://stackoverflow.com/questions/38089295/python-rename-header-row-after-w-writerow-is-finished\n",
    "-  https://docs.python.org/2/library/csv.html\n",
    "\n",
    "## OLD CODE\n",
    "\n",
    "```python\n",
    "with open(csv_in, 'r') as infile, open(csv_out, 'a') as outfile:\n",
    "    # output dict needs a list for new column ordering\n",
    "    fieldnames = 'id', 'title', 'docUrl', 'publication', 'wordcount', 'pubdate', 'articlebody', 'author'\n",
    "    writer = csv.DictWriter(outfile, fieldnames=fieldnames)\n",
    "    # reorder the header first\n",
    "    writer.writeheader()\n",
    "    for row in csv.DictReader(infile):\n",
    "        # writes the reordered rows to the new file\n",
    "        writer.writerow(row)\n",
    "```\n",
    "\n",
    "## manual line snippet\n",
    "\n",
    "```\n",
    "## rename by writing custom header\n",
    "wtr = csv.writer( outfile )\n",
    "wtr.writerow(['id', 'title', 'volume', 'journaltitle', 'issue', 'pubdate', 'pagerange', 'author'])\n",
    "```"
   ]
  },
  {
   "cell_type": "code",
   "execution_count": null,
   "metadata": {},
   "outputs": [],
   "source": []
  }
 ],
 "metadata": {
  "kernelspec": {
   "display_name": "Python 2",
   "language": "python",
   "name": "python2"
  },
  "language_info": {
   "codemirror_mode": {
    "name": "ipython",
    "version": 2
   },
   "file_extension": ".py",
   "mimetype": "text/x-python",
   "name": "python",
   "nbconvert_exporter": "python",
   "pygments_lexer": "ipython2",
   "version": "2.7.11"
  }
 },
 "nbformat": 4,
 "nbformat_minor": 0
}

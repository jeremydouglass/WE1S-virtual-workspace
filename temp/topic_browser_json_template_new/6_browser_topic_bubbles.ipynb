{
 "cells": [
  {
   "cell_type": "markdown",
   "metadata": {},
   "source": [
    "# CREATE TOPIC BUBBLES BROWSER"
   ]
  },
  {
   "cell_type": "markdown",
   "metadata": {},
   "source": [
    "## This notebook will create a topic bubbles visualization from model data generated in notebook 2."
   ]
  },
  {
   "cell_type": "markdown",
   "metadata": {},
   "source": [
    "## SETTINGS"
   ]
  },
  {
   "cell_type": "code",
   "execution_count": null,
   "metadata": {
    "collapsed": true
   },
   "outputs": [],
   "source": [
    "import os\n",
    "\n",
    "project_dir = %pwd\n",
    "\n",
    "published_site_folder_name = os.path.basename(os.getcwd())\n",
    "print('Project name:', published_site_folder_name)"
   ]
  },
  {
   "cell_type": "markdown",
   "metadata": {},
   "source": [
    "## IMPORT: If notebook 3 ran, import data produced in notebook 3 into project browser folder. If notebook 3 was not run, produce data needed for topic bubbles."
   ]
  },
  {
   "cell_type": "code",
   "execution_count": null,
   "metadata": {
    "collapsed": true
   },
   "outputs": [],
   "source": [
    "if os.path.isdir(project_dir + '/browser'):\n",
    "    !cp -rf browser/data scripts/topic-bubbles/\n",
    "    !ls -la scripts/topic-bubbles/data\n",
    "else:\n",
    "    !scripts/dfrbrowser-full/bin/prepare-data convert-state caches/model/topic-state.gz --tw scripts/topic-bubbles/data/tw.json --dt scripts/topic-bubbles/data/dt.json.zip \n",
    "    !scripts/dfrbrowser-full/bin/prepare-data info-stub -o scripts/topic-bubbles/data/info.json\n",
    "    !cp caches/model/topic_scaled.csv scripts/topic-bubbles/data\n",
    "    !ls -la scripts/topic-bubbles/data\n",
    "    "
   ]
  },
  {
   "cell_type": "markdown",
   "metadata": {},
   "source": [
    "## PUBLISH: Publish browser to public viewer"
   ]
  },
  {
   "cell_type": "code",
   "execution_count": null,
   "metadata": {
    "collapsed": true
   },
   "outputs": [],
   "source": [
    "publish_path = '/home/jovyan/view/topic-bubbles/' + published_site_folder_name + '/'\n",
    "print(publish_path)"
   ]
  },
  {
   "cell_type": "code",
   "execution_count": null,
   "metadata": {
    "collapsed": true
   },
   "outputs": [],
   "source": [
    "!cp -rf scripts/topic-bubbles {publish_path}\n",
    "!ls -la {publish_path}"
   ]
  },
  {
   "cell_type": "markdown",
   "metadata": {},
   "source": [
    "## BROWSE: Browse topic bubbles visualization"
   ]
  },
  {
   "cell_type": "code",
   "execution_count": null,
   "metadata": {
    "collapsed": true
   },
   "outputs": [],
   "source": [
    "path_parts = publish_path.split('view')\n",
    "publish_url = 'http://harbor.english.ucsb.edu:10002' + path_parts[1]\n",
    "from IPython.display import display, HTML\n",
    "\n",
    "browser_link_html = HTML('<h2><a href=\"' + publish_url + '\" target=\"_blank\">' + publish_url + '</a></h2>')\n",
    "display(browser_link_html)\n"
   ]
  },
  {
   "cell_type": "markdown",
   "metadata": {},
   "source": [
    "## NEXT NOTEBOOKS"
   ]
  },
  {
   "cell_type": "code",
   "execution_count": null,
   "metadata": {},
   "outputs": [],
   "source": [
    "from IPython.display import display, HTML\n",
    "\n",
    "write_project_dir = project_dir.replace('/home/jovyan/', '')\n",
    "next_link = 'http://harbor.english.ucsb.edu:10000/notebooks/' + write_project_dir\n",
    "\n",
    "next_link_html = HTML('<h2>Next:</h2><p><ul><li>Go to <a href=\"' + next_link + '/3_browser_dfrbrowser.ipynb\" target=\"_blank\"><strong>Notebook 3</a></strong> to make a dfrbrowser.</li><li>Go to <a href=\"' + next_link + '/4_customize_dfrbrowser.ipynb\" target=\"_blank\"><strong>Notebook 4</a></strong> to customize your dfrbrowser.</li><li>Go to <a href=\"' + next_link + '/5_browser_pyldavis.ipynb\" target=\"_blank\"><strong>Notebook 5</a></strong> to make a PyLDAVis visualization.</li></ul></p>')\n",
    "display(next_link_html)\n",
    "       \n"
   ]
  }
 ],
 "metadata": {
  "kernelspec": {
   "display_name": "Python 3",
   "language": "python",
   "name": "python3"
  },
  "language_info": {
   "codemirror_mode": {
    "name": "ipython",
    "version": 3
   },
   "file_extension": ".py",
   "mimetype": "text/x-python",
   "name": "python",
   "nbconvert_exporter": "python",
   "pygments_lexer": "ipython3",
   "version": "3.6.6"
  }
 },
 "nbformat": 4,
 "nbformat_minor": 2
}

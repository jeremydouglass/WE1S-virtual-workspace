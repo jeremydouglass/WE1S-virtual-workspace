{
 "cells": [
  {
   "cell_type": "markdown",
   "metadata": {},
   "source": [
    "# 3. CREATE DFR-BROWSER"
   ]
  },
  {
   "cell_type": "markdown",
   "metadata": {},
   "source": [
    "### This notebook will create a dfr-browser using model data generated in notebook 2."
   ]
  },
  {
   "cell_type": "markdown",
   "metadata": {},
   "source": [
    "## SETTINGS"
   ]
  },
  {
   "cell_type": "code",
   "execution_count": null,
   "metadata": {},
   "outputs": [],
   "source": [
    "import csv\n",
    "import os\n",
    "\n",
    "## project directory\n",
    "project_dir = %pwd\n",
    "print(project_dir)\n",
    "\n",
    "## import global project settings from config.py\n",
    "from settings import *"
   ]
  },
  {
   "cell_type": "markdown",
   "metadata": {},
   "source": [
    "## CREATE METADATA: Create DFR csv metadata from json files"
   ]
  },
  {
   "cell_type": "code",
   "execution_count": null,
   "metadata": {
    "collapsed": true
   },
   "outputs": [],
   "source": [
    "%%time \n",
    "\n",
    "## CREATE METADATA FROM JSON FILES\n",
    "\n",
    "import json\n",
    "\n",
    "## Delete old metadata files\n",
    "!rm -fr {metadata_dir}\n",
    "!mkdir -p {metadata_dir}\n",
    "\n",
    "json_directory = 'caches/json/'\n",
    "\n",
    "## DEFINE METADATA STRINGCLEANER\n",
    "\n",
    "import string\n",
    "import unidecode\n",
    "\n",
    "## MAP FIELDS FROM JSON TO DFRB METADATA\n",
    "\n",
    "## id, publication, pubdate, title, articlebody, author, docUrl, wordcount\n",
    "\n",
    "## idx       ->  id\n",
    "## title     ->  title\n",
    "##           ->  author\n",
    "## pub       ->  publication\n",
    "##           ->  docUrl\n",
    "## length    ->  wordcount\n",
    "## pub_date  ->  pubdate\n",
    "\n",
    "## content   ->  articlebody\n",
    "\n",
    "csv.field_size_limit(100000000)\n",
    "\n",
    "metadata_csv_file = 'caches/metadata/metadata-dfrb.csv'\n",
    "\n",
    "# ## infieldnames provides names for the original column order\n",
    "# infieldnames = 'id', 'publication', 'pubdate', 'title', 'articlebody', 'pagerange', 'author', 'docUrl', 'wordcount'\n",
    "# ## outfieldnames re-orders that name list into a new column order\n",
    "# outfieldnames = 'id', 'title', 'author', 'publication', 'docUrl', 'wordcount', 'pubdate', 'pagerange'\n",
    "\n",
    "\n",
    "with open(metadata_csv_file, 'w') as csvfile:\n",
    "    csvwriter = csv.writer(csvfile, delimiter=',')\n",
    "#   csvwriter.writerow(['id'] + ['publication'] + ['pubdate'] + ['title'] + ['articlebody'] + ['author'] + ['docUrl'] + ['wordcount'])\n",
    "#   csvwriter.writerow(['id'] + ['title'] + ['author'] + ['publication'] + ['docUrl'] + ['wordcount'] + ['pubdate'] + ['pagerange'])\n",
    "    csvwriter.writerow(['id'] + ['title'] + ['author'] + ['journaltitle'] + ['volume'] + ['issue'] + ['pubdate'] + ['pagerange'])\n",
    "\n",
    "    sorted_json = sorted(f for f in os.listdir(json_directory) if f.endswith(\".json\"))\n",
    "    \n",
    "    idx=0\n",
    "    for filename in sorted_json:\n",
    "\n",
    "        # log: preview the first and last files only to prevent log overflow\n",
    "        if(idx<5 or idx > len(sorted_json)-5):\n",
    "            print(idx, ':', filename, '\\n')\n",
    "        if(idx==5 and len(sorted_json)>10):\n",
    "            print('...\\n')\n",
    "            \n",
    "        with open(os.path.join(json_directory, filename)) as f:\n",
    "            j = json.loads(f.read())\n",
    "            if not 'pagerange' in j:\n",
    "                j['pagerange'] = 'no-pg'\n",
    "            if not 'author' in j:\n",
    "                j['author'] = 'unknown'\n",
    "            if not 'volume'in j:\n",
    "                j['volume'] = 'no-vol'\n",
    "            if not 'issue' in j:\n",
    "                j['issue'] = 'no-issue'\n",
    "            if not 'pub_date' in j:\n",
    "                j['pub_date'] = 'none'\n",
    "\n",
    "            # write article metadata to csv\n",
    "            # csvwriter.writerow([idx] + [j['title']] + [] + [j['pub']] + [] + [j['length']] + [j['pub_date']])\n",
    "            csvwriter.writerow(['json/' + filename] + [j['title']] + [j['author']] + [j['pub']] + [j['volume']] + [j['issue']] + [j['pub_date']] + [j['length']])\n",
    "        \n",
    "        idx = idx+1\n",
    "        \n",
    "print('\\n\\n----------Time----------')"
   ]
  },
  {
   "cell_type": "markdown",
   "metadata": {},
   "source": [
    "Check metadata before modeling"
   ]
  },
  {
   "cell_type": "code",
   "execution_count": null,
   "metadata": {
    "collapsed": true
   },
   "outputs": [],
   "source": [
    "!echo CHECK METADATA\n",
    "!echo\n",
    "!echo {metadata_dir} :\n",
    "!ls -1 {metadata_dir}\n",
    "!echo\n",
    "!echo {metadata_file_reorder} :\n",
    "!head -n 5 {metadata_file_reorder}\n",
    "!echo"
   ]
  },
  {
   "cell_type": "markdown",
   "metadata": {},
   "source": [
    "## CREATE BROWSER: Create files needed for dfr-browser"
   ]
  },
  {
   "cell_type": "code",
   "execution_count": null,
   "metadata": {
    "collapsed": true
   },
   "outputs": [],
   "source": [
    "import csv\n",
    "\n",
    "browser_meta_file_temp = 'caches/metadata/meta.temp.csv'\n",
    "browser_meta_file = 'caches/metadata/meta.csv'\n",
    "\n",
    "#write csv dfr-browser needs\n",
    "with open(metadata_csv_file, 'r') as csv_in:\n",
    "    csvreader = csv.reader(csv_in, delimiter=',')\n",
    "    next(csvreader)  # skip header row\n",
    "    with open(browser_meta_file_temp, 'w') as csv_out:\n",
    "        # enforce quoted fields\n",
    "        csvwriter = csv.writer(csv_out, delimiter=',', quoting=csv.QUOTE_ALL)\n",
    "        for row in csvreader:\n",
    "            csvwriter.writerow(row)\n",
    "            \n",
    "with open(browser_meta_file_temp, 'r') as fin:\n",
    "    with open(browser_meta_file, 'w') as fout:\n",
    "        for line in fin:\n",
    "            fout.write(line.replace(',\"\",', ',NA,'))\n",
    "\n",
    "!rm {browser_meta_file_temp}\n",
    "!rm -r browser\n",
    "# copy dfrbrowser template from scripts to project browser folder\n",
    "!cp -r scripts/dfrbrowser-full/ browser/\n",
    "# move and rename customized minimized js file\n",
    "!mv browser/js/dfb.min.js.custom browser/js/dfb.min.js\n",
    "!mkdir browser/data/\n",
    "\n",
    "# create and move files for dfr-browser\n",
    "!scripts/dfrbrowser-full/bin/prepare-data convert-state caches/model/topic-state.gz --tw browser/data/tw.json --dt browser/data/dt.json.zip\n",
    "!scripts/dfrbrowser-full/bin/prepare-data info-stub -o browser/data/info.json\n",
    "!cp caches/model/topic_scaled.csv browser/data\n"
   ]
  },
  {
   "cell_type": "markdown",
   "metadata": {},
   "source": [
    "### Expected output: \n",
    "`rm: cannot remove 'browser': No such file or directory` (if running cell for the first time)    \n",
    "`beta value, not saved in a file: 0.01529451469574406`    \n",
    "`Wrote topic-words information to browser/data/tw.json`    \n",
    "`Wrote sparse doc-topics to browser/data/dt.json.zip`        \n",
    "`Created stub file in browser/data/info.json`    "
   ]
  },
  {
   "cell_type": "markdown",
   "metadata": {},
   "source": [
    "Move metadata-dfrb to browser/data, zip up and rename, delete meta.csv copy"
   ]
  },
  {
   "cell_type": "code",
   "execution_count": null,
   "metadata": {
    "collapsed": true
   },
   "outputs": [],
   "source": [
    "!rm browser/data/meta.csv.zip\n",
    "!cp {browser_meta_file} browser/data/\n",
    "!zip -j browser/data/meta.csv.zip browser/data/meta.csv\n",
    "!rm browser/data/meta.csv"
   ]
  },
  {
   "cell_type": "markdown",
   "metadata": {},
   "source": [
    "### Expected output:\n",
    "`rm: cannot remove 'browser/data/meta.csv.zip': No such file or directory` (if running cell for the first time)    \n",
    " `adding: meta.csv (deflated x%)`   "
   ]
  },
  {
   "cell_type": "markdown",
   "metadata": {},
   "source": [
    "Copy json cache into local browser for links"
   ]
  },
  {
   "cell_type": "code",
   "execution_count": null,
   "metadata": {
    "collapsed": true
   },
   "outputs": [],
   "source": [
    "!if [ -d browser/json ]; then rm -rf browser/json; fi\n",
    "!mkdir -p browser/json && cp -rf caches/json browser/\n",
    "!find browser/json -type f -print0 | xargs -0 chmod 755"
   ]
  },
  {
   "cell_type": "markdown",
   "metadata": {},
   "source": [
    "Tweak default index.html to link to JSON, not JSTOR"
   ]
  },
  {
   "cell_type": "code",
   "execution_count": null,
   "metadata": {
    "collapsed": true
   },
   "outputs": [],
   "source": [
    "fpath_html = \"browser/index.html\"\n",
    "with open(fpath_html, 'r') as file:\n",
    "    filedata = file.read()\n",
    "filedata = filedata.replace('on JSTOR', 'JSON')\n",
    "with open(fpath_html, 'w') as file:\n",
    "    file.write(filedata)"
   ]
  },
  {
   "cell_type": "markdown",
   "metadata": {},
   "source": [
    "Generate an HTML menu with live browsing and download links based on the current working directory."
   ]
  },
  {
   "cell_type": "code",
   "execution_count": null,
   "metadata": {},
   "outputs": [],
   "source": [
    "import os\n",
    "    \n",
    "project_name = os.path.basename(project_dir)\n",
    "project_reldir = project_dir.split(\"/write/\")[1]\n",
    "print(project_reldir)\n",
    "project_link = \"http://harbor.english.ucsb.edu:10001/\" + project_reldir + \"/browser/\"\n",
    "## Can't get HTML display to work, so hack:\n",
    "print(\"To view the browser live: \" + project_link)"
   ]
  },
  {
   "cell_type": "markdown",
   "metadata": {},
   "source": [
    "## ZIP BROWSER: Create a zipped copy of the browser for export"
   ]
  },
  {
   "cell_type": "code",
   "execution_count": null,
   "metadata": {
    "collapsed": true
   },
   "outputs": [],
   "source": [
    "!zip browser.zip -r browser"
   ]
  },
  {
   "cell_type": "markdown",
   "metadata": {},
   "source": [
    "Run the following cell for instructions about how to download and run your local dfrbrowser copy."
   ]
  },
  {
   "cell_type": "code",
   "execution_count": null,
   "metadata": {},
   "outputs": [],
   "source": [
    "from IPython.display import display, HTML\n",
    "msg = '''\n",
    "<h2>Download</h2>\n",
    "<p>To download and view the browser through a webserver hosted on your local machine:</p>\n",
    "<ol>\n",
    "    <li><a href=\"browser.zip\" target='new'>Download browser.zip</a></li>\n",
    "    <li>Unzip browser.zip</li>\n",
    "    <li>Open a shell/terminal, and navigate to the browser directory you just downloaded</li>\n",
    "    <li>On Linux / OSX, launch local webserver by running:<br><code>./bin/server</code></li>\n",
    "    <li>View from your local webserver: <a href='http://localhost:8888/' target='_blank'>http://localhost:8888/</a></li>\n",
    "    </ol>\n",
    "'''\n",
    "output = HTML(msg)\n",
    "display(output)\n"
   ]
  },
  {
   "cell_type": "markdown",
   "metadata": {},
   "source": [
    "## NEXT NOTEBOOKS"
   ]
  },
  {
   "cell_type": "code",
   "execution_count": null,
   "metadata": {},
   "outputs": [],
   "source": [
    "from IPython.display import display, HTML\n",
    "\n",
    "write_project_dir = project_dir.replace('/home/jovyan/', '')\n",
    "next_link = 'http://harbor.english.ucsb.edu:10000/notebooks/' + write_project_dir\n",
    "\n",
    "next_link_html = HTML('<h2>Next:</h2><p><ul><li>Go to <a href=\"' + next_link + '/4_customize_dfrbrowser.ipynb\" target=\"_blank\"><strong>Notebook 4</a></strong> to make customize your dfrbrowser.</li><li>Go to <a href=\"' + next_link + '/5_browser_pyldavis.ipynb\" target=\"_blank\"><strong>Notebook 5</a></strong> to make a PyLDAVis visualization.</li><li>Go to <a href=\"' + next_link + '/6_browser_topic_bubbles.ipynb\" target=\"_blank\"><strong>Notebook 6</a></strong> to make a topic bubbles visualization.</li></ul></p>')\n",
    "display(next_link_html)\n",
    "       \n"
   ]
  }
 ],
 "metadata": {
  "kernelspec": {
   "display_name": "Python 3",
   "language": "python",
   "name": "python3"
  },
  "language_info": {
   "codemirror_mode": {
    "name": "ipython",
    "version": 3
   },
   "file_extension": ".py",
   "mimetype": "text/x-python",
   "name": "python",
   "nbconvert_exporter": "python",
   "pygments_lexer": "ipython3",
   "version": "3.6.6"
  }
 },
 "nbformat": 4,
 "nbformat_minor": 2
}
